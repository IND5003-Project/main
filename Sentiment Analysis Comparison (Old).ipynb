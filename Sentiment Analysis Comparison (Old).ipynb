{
 "cells": [
  {
   "cell_type": "code",
   "execution_count": 3,
   "metadata": {},
   "outputs": [
    {
     "name": "stdout",
     "output_type": "stream",
     "text": [
      "Collecting textblob\n",
      "  Downloading https://files.pythonhosted.org/packages/60/f0/1d9bfcc8ee6b83472ec571406bd0dd51c0e6330ff1a51b2d29861d389e85/textblob-0.15.3-py2.py3-none-any.whl (636kB)\n",
      "Requirement already satisfied, skipping upgrade: nltk>=3.1 in c:\\users\\raphael\\desktop\\y5s1\\ind5003\\lib\\site-packages (from textblob) (3.4.5)\n",
      "Requirement already satisfied, skipping upgrade: six in c:\\users\\raphael\\desktop\\y5s1\\ind5003\\lib\\site-packages (from nltk>=3.1->textblob) (1.12.0)\n",
      "Installing collected packages: textblob\n",
      "Successfully installed textblob-0.15.3\n"
     ]
    },
    {
     "name": "stderr",
     "output_type": "stream",
     "text": [
      "WARNING: You are using pip version 19.2.2, however version 19.2.3 is available.\n",
      "You should consider upgrading via the 'python -m pip install --upgrade pip' command.\n"
     ]
    }
   ],
   "source": [
    "!pip install -U textblob"
   ]
  },
  {
   "cell_type": "code",
   "execution_count": 24,
   "metadata": {},
   "outputs": [
    {
     "name": "stderr",
     "output_type": "stream",
     "text": [
      "[nltk_data] Downloading package vader_lexicon to\n",
      "[nltk_data]     C:\\Users\\Raphael\\AppData\\Roaming\\nltk_data...\n"
     ]
    }
   ],
   "source": [
    "from textblob import TextBlob\n",
    "from textblob.sentiments import NaiveBayesAnalyzer\n",
    "import numpy as np\n",
    "import pandas as pd\n",
    "import matplotlib.pyplot as plt\n",
    "%matplotlib inline\n",
    "import scipy.stats as stats\n",
    "import math\n",
    "import re\n",
    "import html\n",
    "import os.path\n",
    "import nltk\n",
    "from nltk import word_tokenize, pos_tag\n",
    "from nltk.corpus import stopwords, wordnet\n",
    "from nltk.stem.wordnet import WordNetLemmatizer\n",
    "from nltk.sentiment.vader import SentimentIntensityAnalyzer\n",
    "\n",
    "nltk.download('vader_lexicon')"
   ]
  },
  {
   "cell_type": "code",
   "execution_count": 7,
   "metadata": {},
   "outputs": [
    {
     "data": {
      "text/plain": [
       "Sentiment(classification='neg', p_pos=0.462121212121212, p_neg=0.537878787878788)"
      ]
     },
     "execution_count": 7,
     "metadata": {},
     "output_type": "execute_result"
    }
   ],
   "source": [
    "TextBlob(\"test test\", analyzer=NaiveBayesAnalyzer()).sentiment"
   ]
  },
  {
   "cell_type": "code",
   "execution_count": 17,
   "metadata": {},
   "outputs": [],
   "source": [
    "file_location = './Stocktwit Raw_preprocessed.csv'\n",
    "file_location_raw = './Stocktwit Raw.csv'"
   ]
  },
  {
   "cell_type": "code",
   "execution_count": 12,
   "metadata": {},
   "outputs": [],
   "source": [
    "st = pd.read_csv(file_location, header=0)"
   ]
  },
  {
   "cell_type": "code",
   "execution_count": 13,
   "metadata": {},
   "outputs": [
    {
     "data": {
      "text/html": [
       "<div>\n",
       "<style scoped>\n",
       "    .dataframe tbody tr th:only-of-type {\n",
       "        vertical-align: middle;\n",
       "    }\n",
       "\n",
       "    .dataframe tbody tr th {\n",
       "        vertical-align: top;\n",
       "    }\n",
       "\n",
       "    .dataframe thead th {\n",
       "        text-align: right;\n",
       "    }\n",
       "</style>\n",
       "<table border=\"1\" class=\"dataframe\">\n",
       "  <thead>\n",
       "    <tr style=\"text-align: right;\">\n",
       "      <th></th>\n",
       "      <th>message</th>\n",
       "      <th>datetime</th>\n",
       "    </tr>\n",
       "  </thead>\n",
       "  <tbody>\n",
       "    <tr>\n",
       "      <th>0</th>\n",
       "      <td>nothing can get this over . maybe buyout will...</td>\n",
       "      <td>Sep 17th, 8:40 am</td>\n",
       "    </tr>\n",
       "    <tr>\n",
       "      <th>1</th>\n",
       "      <td>[aug calls] up + . alerted at on aug : am pea...</td>\n",
       "      <td>Sep 17th, 8:28 am</td>\n",
       "    </tr>\n",
       "    <tr>\n",
       "      <th>2</th>\n",
       "      <td>peak profit for the last expired option alerts...</td>\n",
       "      <td>Sep 17th, 8:26 am</td>\n",
       "    </tr>\n",
       "    <tr>\n",
       "      <th>3</th>\n",
       "      <td>last six months, option alerts peaked above p...</td>\n",
       "      <td>Sep 17th, 8:25 am</td>\n",
       "    </tr>\n",
       "    <tr>\n",
       "      <th>4</th>\n",
       "      <td>down. not looking good for tuesday. fed will ...</td>\n",
       "      <td>Sep 17th, 8:11 am</td>\n",
       "    </tr>\n",
       "  </tbody>\n",
       "</table>\n",
       "</div>"
      ],
      "text/plain": [
       "                                             message           datetime\n",
       "0   nothing can get this over . maybe buyout will...  Sep 17th, 8:40 am\n",
       "1   [aug calls] up + . alerted at on aug : am pea...  Sep 17th, 8:28 am\n",
       "2  peak profit for the last expired option alerts...  Sep 17th, 8:26 am\n",
       "3   last six months, option alerts peaked above p...  Sep 17th, 8:25 am\n",
       "4   down. not looking good for tuesday. fed will ...  Sep 17th, 8:11 am"
      ]
     },
     "execution_count": 13,
     "metadata": {},
     "output_type": "execute_result"
    }
   ],
   "source": [
    "st.head()"
   ]
  },
  {
   "cell_type": "code",
   "execution_count": 14,
   "metadata": {},
   "outputs": [
    {
     "name": "stdout",
     "output_type": "stream",
     "text": [
      "Sentiment(classification='neg', p_pos=0.11214806822153346, p_neg=0.8878519317784656)\n",
      "Sentiment(classification='neg', p_pos=0.28638306190904067, p_neg=0.7136169380909578)\n",
      "Sentiment(classification='pos', p_pos=0.6302232656151758, p_neg=0.3697767343848223)\n",
      "Sentiment(classification='pos', p_pos=0.571914459889252, p_neg=0.42808554011074645)\n",
      "Sentiment(classification='pos', p_pos=0.8823677136614579, p_neg=0.11763228633853988)\n",
      "Sentiment(classification='pos', p_pos=0.9932817425597105, p_neg=0.006718257440289915)\n",
      "Sentiment(classification='pos', p_pos=0.90253775511246, p_neg=0.09746224488754142)\n",
      "Sentiment(classification='pos', p_pos=0.7166666666666666, p_neg=0.28333333333333344)\n",
      "Sentiment(classification='pos', p_pos=0.6218878971389639, p_neg=0.378112102861038)\n",
      "Sentiment(classification='pos', p_pos=0.5, p_neg=0.5)\n"
     ]
    }
   ],
   "source": [
    "for x in range(10):\n",
    "    print(TextBlob(st[\"message\"][x], analyzer=NaiveBayesAnalyzer()).sentiment)"
   ]
  },
  {
   "cell_type": "code",
   "execution_count": 16,
   "metadata": {},
   "outputs": [
    {
     "name": "stdout",
     "output_type": "stream",
     "text": [
      " nothing can get this over . maybe buyout will do it. like tops i guess. \n",
      " [aug calls] up + . alerted at on aug : am peak after alert on \n",
      "peak profit for the last expired option alerts for . | . | . | . | . | . |\n",
      " last six months, option alerts peaked above percent after they were posted\n",
      " down. not looking good for tuesday. fed will make it worse. market watch: asian markets slip as tensions remain high after attack on saudi oil facilities\n",
      " always a solid buy for portfolio. also, now over followers & gaining, you guys are awesome! ? \n",
      " china says 'vice ministerial' officials will be in washington for trade talks cnbc. com china s. \n",
      " it's awesome\n",
      " everyone please report all he does is spam every company with technical analysis videos that arent even analyzing anything just a stupid crappy way to get you views for his pathetic youtube channel\n",
      " ? \n"
     ]
    }
   ],
   "source": [
    "for x in range(10):\n",
    "    print(st[\"message\"][x])"
   ]
  },
  {
   "cell_type": "code",
   "execution_count": 19,
   "metadata": {},
   "outputs": [],
   "source": [
    "st_raw = pd.read_csv(file_location_raw, header=0, encoding = 'unicode_escape')"
   ]
  },
  {
   "cell_type": "code",
   "execution_count": 25,
   "metadata": {},
   "outputs": [
    {
     "name": "stdout",
     "output_type": "stream",
     "text": [
      "$DIS nothing can get this over 140. Maybe $AAPL buyout will do it. Like 150 tops i guess.\n",
      "$AAPL [Aug-30 210 Calls] up +30.43 %  Alerted at $4.60  on Aug 13 2019 10:53AM Peak after alert $6.00 on 2019-08-22\n",
      "Peak profit for the last 6 expired option alerts for $AAPL 10.85 % | 104.11 % | 206.25 % | 16.67 % | 91.21 % | 19.65 % |\n",
      "$AAPL Last six months, 41 option alerts peaked above 100 percent after they were posted\n",
      "$AAPL $ROKU $DE $HD $TGT  down. Not looking good for Tuesday. Fed will make it worse. Market Watch: Asian markets slip as tensions remain high after attack on Saudi oil facilities\n",
      "$AMZN $GOOGL $AAPL $VOOG always a solid buy for portfolio. Also, now over 1800 followers & gaining, you guys are awesome! ??\n",
      "$AAPL China says 'vice ministerial' officials will be in Washington for trade talks - cnbc.com/2019/09/17/china-s...\n",
      "$AAPL $NET $SNAP $OXY it's awesome\n",
      "$AAPL everyone please report @ceobrattwatking. All he does is spam every company with technical analysis Videos that arent even analyzing anything just a stupid crappy way to get you views for his pathetic YouTube channel\n",
      "$AAPL ??\n"
     ]
    }
   ],
   "source": [
    "for x in range(10):\n",
    "    print(st_raw[\"st_3SL2gug\"][x])"
   ]
  },
  {
   "cell_type": "code",
   "execution_count": 35,
   "metadata": {},
   "outputs": [
    {
     "name": "stdout",
     "output_type": "stream",
     "text": [
      "0.7003\n",
      "0.296\n",
      "0.4404\n",
      "0.0\n",
      "-0.8835\n",
      "0.8463\n",
      "0.0\n",
      "0.6249\n",
      "-0.8979\n",
      "0.0\n"
     ]
    }
   ],
   "source": [
    "sia = SentimentIntensityAnalyzer()\n",
    "\n",
    "for x in range(10):\n",
    "    print(sia.polarity_scores(st_raw['st_3SL2gug'][x])['compound'])"
   ]
  },
  {
   "cell_type": "code",
   "execution_count": 36,
   "metadata": {},
   "outputs": [
    {
     "name": "stdout",
     "output_type": "stream",
     "text": [
      "Sentiment(classification='neg', p_pos=0.11214806822153346, p_neg=0.8878519317784656)\n",
      "Sentiment(classification='neg', p_pos=0.28638306190904067, p_neg=0.7136169380909578)\n",
      "Sentiment(classification='pos', p_pos=0.6302232656151758, p_neg=0.3697767343848223)\n",
      "Sentiment(classification='pos', p_pos=0.584922079862267, p_neg=0.41507792013773376)\n",
      "Sentiment(classification='pos', p_pos=0.8823677136614579, p_neg=0.11763228633853988)\n",
      "Sentiment(classification='pos', p_pos=0.9977505057321676, p_neg=0.002249494267831135)\n",
      "Sentiment(classification='pos', p_pos=0.90253775511246, p_neg=0.09746224488754142)\n",
      "Sentiment(classification='pos', p_pos=0.7542405551272175, p_neg=0.24575944487278337)\n",
      "Sentiment(classification='pos', p_pos=0.6218878971389639, p_neg=0.378112102861038)\n",
      "Sentiment(classification='pos', p_pos=0.5, p_neg=0.5)\n"
     ]
    }
   ],
   "source": [
    "for x in range(10):\n",
    "    print(TextBlob(st_raw['st_3SL2gug'][x], analyzer=NaiveBayesAnalyzer()).sentiment)"
   ]
  },
  {
   "cell_type": "code",
   "execution_count": 38,
   "metadata": {},
   "outputs": [],
   "source": [
    "st2 = pd.read_csv('./Stocktwit Raw_preprocessed2.csv', header=0)"
   ]
  },
  {
   "cell_type": "code",
   "execution_count": 39,
   "metadata": {},
   "outputs": [
    {
     "name": "stdout",
     "output_type": "stream",
     "text": [
      "0.7003\n",
      "0.296\n",
      "0.4404\n",
      "0.0\n",
      "-0.8835\n",
      "0.8463\n",
      "0.0\n",
      "0.6249\n",
      "-0.8979\n",
      "0.0\n"
     ]
    }
   ],
   "source": [
    "for x in range(10):\n",
    "    print(sia.polarity_scores(st2['message'][x])['compound'])"
   ]
  },
  {
   "cell_type": "code",
   "execution_count": 41,
   "metadata": {},
   "outputs": [],
   "source": [
    "st2.loc[:, 'Sentiment Score'] = st2.loc[:, ['message']].apply(lambda x: sia.polarity_scores(x[0])['compound'], axis=1)"
   ]
  },
  {
   "cell_type": "code",
   "execution_count": 42,
   "metadata": {},
   "outputs": [
    {
     "data": {
      "text/html": [
       "<div>\n",
       "<style scoped>\n",
       "    .dataframe tbody tr th:only-of-type {\n",
       "        vertical-align: middle;\n",
       "    }\n",
       "\n",
       "    .dataframe tbody tr th {\n",
       "        vertical-align: top;\n",
       "    }\n",
       "\n",
       "    .dataframe thead th {\n",
       "        text-align: right;\n",
       "    }\n",
       "</style>\n",
       "<table border=\"1\" class=\"dataframe\">\n",
       "  <thead>\n",
       "    <tr style=\"text-align: right;\">\n",
       "      <th></th>\n",
       "      <th>message</th>\n",
       "      <th>datetime</th>\n",
       "      <th>Sentiment Score</th>\n",
       "    </tr>\n",
       "  </thead>\n",
       "  <tbody>\n",
       "    <tr>\n",
       "      <th>0</th>\n",
       "      <td>nothing can get this over . Maybe buyout will...</td>\n",
       "      <td>Sep 17th, 8:40 am</td>\n",
       "      <td>0.7003</td>\n",
       "    </tr>\n",
       "    <tr>\n",
       "      <th>1</th>\n",
       "      <td>[Aug Calls] up + . Alerted at on Aug : AM Pea...</td>\n",
       "      <td>Sep 17th, 8:28 am</td>\n",
       "      <td>0.2960</td>\n",
       "    </tr>\n",
       "    <tr>\n",
       "      <th>2</th>\n",
       "      <td>Peak profit for the last expired option alerts...</td>\n",
       "      <td>Sep 17th, 8:26 am</td>\n",
       "      <td>0.4404</td>\n",
       "    </tr>\n",
       "    <tr>\n",
       "      <th>3</th>\n",
       "      <td>Last six months, option alerts peaked above p...</td>\n",
       "      <td>Sep 17th, 8:25 am</td>\n",
       "      <td>0.0000</td>\n",
       "    </tr>\n",
       "    <tr>\n",
       "      <th>4</th>\n",
       "      <td>down. Not looking good for Tuesday. Fed will ...</td>\n",
       "      <td>Sep 17th, 8:11 am</td>\n",
       "      <td>-0.8835</td>\n",
       "    </tr>\n",
       "  </tbody>\n",
       "</table>\n",
       "</div>"
      ],
      "text/plain": [
       "                                             message           datetime  \\\n",
       "0   nothing can get this over . Maybe buyout will...  Sep 17th, 8:40 am   \n",
       "1   [Aug Calls] up + . Alerted at on Aug : AM Pea...  Sep 17th, 8:28 am   \n",
       "2  Peak profit for the last expired option alerts...  Sep 17th, 8:26 am   \n",
       "3   Last six months, option alerts peaked above p...  Sep 17th, 8:25 am   \n",
       "4   down. Not looking good for Tuesday. Fed will ...  Sep 17th, 8:11 am   \n",
       "\n",
       "   Sentiment Score  \n",
       "0           0.7003  \n",
       "1           0.2960  \n",
       "2           0.4404  \n",
       "3           0.0000  \n",
       "4          -0.8835  "
      ]
     },
     "execution_count": 42,
     "metadata": {},
     "output_type": "execute_result"
    }
   ],
   "source": [
    "st2.head()"
   ]
  },
  {
   "cell_type": "code",
   "execution_count": 45,
   "metadata": {},
   "outputs": [],
   "source": [
    "test = pd.read_csv('./full-corpus.csv', header=0)"
   ]
  },
  {
   "cell_type": "code",
   "execution_count": 48,
   "metadata": {},
   "outputs": [
    {
     "data": {
      "text/html": [
       "<div>\n",
       "<style scoped>\n",
       "    .dataframe tbody tr th:only-of-type {\n",
       "        vertical-align: middle;\n",
       "    }\n",
       "\n",
       "    .dataframe tbody tr th {\n",
       "        vertical-align: top;\n",
       "    }\n",
       "\n",
       "    .dataframe thead th {\n",
       "        text-align: right;\n",
       "    }\n",
       "</style>\n",
       "<table border=\"1\" class=\"dataframe\">\n",
       "  <thead>\n",
       "    <tr style=\"text-align: right;\">\n",
       "      <th></th>\n",
       "      <th>Topic</th>\n",
       "      <th>Sentiment</th>\n",
       "      <th>TweetId</th>\n",
       "      <th>TweetDate</th>\n",
       "      <th>TweetText</th>\n",
       "    </tr>\n",
       "  </thead>\n",
       "  <tbody>\n",
       "    <tr>\n",
       "      <th>0</th>\n",
       "      <td>apple</td>\n",
       "      <td>positive</td>\n",
       "      <td>126415614616154112</td>\n",
       "      <td>Tue Oct 18 21:53:25 +0000 2011</td>\n",
       "      <td>Now all @Apple has to do is get swype on the i...</td>\n",
       "    </tr>\n",
       "    <tr>\n",
       "      <th>1</th>\n",
       "      <td>apple</td>\n",
       "      <td>positive</td>\n",
       "      <td>126404574230740992</td>\n",
       "      <td>Tue Oct 18 21:09:33 +0000 2011</td>\n",
       "      <td>@Apple will be adding more carrier support to ...</td>\n",
       "    </tr>\n",
       "    <tr>\n",
       "      <th>2</th>\n",
       "      <td>apple</td>\n",
       "      <td>positive</td>\n",
       "      <td>126402758403305474</td>\n",
       "      <td>Tue Oct 18 21:02:20 +0000 2011</td>\n",
       "      <td>Hilarious @youtube video - guy does a duet wit...</td>\n",
       "    </tr>\n",
       "    <tr>\n",
       "      <th>3</th>\n",
       "      <td>apple</td>\n",
       "      <td>positive</td>\n",
       "      <td>126397179614068736</td>\n",
       "      <td>Tue Oct 18 20:40:10 +0000 2011</td>\n",
       "      <td>@RIM you made it too easy for me to switch to ...</td>\n",
       "    </tr>\n",
       "    <tr>\n",
       "      <th>4</th>\n",
       "      <td>apple</td>\n",
       "      <td>positive</td>\n",
       "      <td>126395626979196928</td>\n",
       "      <td>Tue Oct 18 20:34:00 +0000 2011</td>\n",
       "      <td>I just realized that the reason I got into twi...</td>\n",
       "    </tr>\n",
       "    <tr>\n",
       "      <th>5</th>\n",
       "      <td>apple</td>\n",
       "      <td>positive</td>\n",
       "      <td>126394830791254016</td>\n",
       "      <td>Tue Oct 18 20:30:50 +0000 2011</td>\n",
       "      <td>I'm a current @Blackberry user, little bit dis...</td>\n",
       "    </tr>\n",
       "    <tr>\n",
       "      <th>6</th>\n",
       "      <td>apple</td>\n",
       "      <td>positive</td>\n",
       "      <td>126379685453119488</td>\n",
       "      <td>Tue Oct 18 19:30:39 +0000 2011</td>\n",
       "      <td>The 16 strangest things Siri has said so far. ...</td>\n",
       "    </tr>\n",
       "    <tr>\n",
       "      <th>7</th>\n",
       "      <td>apple</td>\n",
       "      <td>positive</td>\n",
       "      <td>126377656416612353</td>\n",
       "      <td>Tue Oct 18 19:22:35 +0000 2011</td>\n",
       "      <td>Great up close &amp; personal event @Apple tonight...</td>\n",
       "    </tr>\n",
       "    <tr>\n",
       "      <th>8</th>\n",
       "      <td>apple</td>\n",
       "      <td>positive</td>\n",
       "      <td>126373779483004928</td>\n",
       "      <td>Tue Oct 18 19:07:11 +0000 2011</td>\n",
       "      <td>From which companies do you experience the bes...</td>\n",
       "    </tr>\n",
       "    <tr>\n",
       "      <th>9</th>\n",
       "      <td>apple</td>\n",
       "      <td>positive</td>\n",
       "      <td>126366353757179904</td>\n",
       "      <td>Tue Oct 18 18:37:41 +0000 2011</td>\n",
       "      <td>Just apply for a job at @Apple, hope they call...</td>\n",
       "    </tr>\n",
       "  </tbody>\n",
       "</table>\n",
       "</div>"
      ],
      "text/plain": [
       "   Topic Sentiment             TweetId                       TweetDate  \\\n",
       "0  apple  positive  126415614616154112  Tue Oct 18 21:53:25 +0000 2011   \n",
       "1  apple  positive  126404574230740992  Tue Oct 18 21:09:33 +0000 2011   \n",
       "2  apple  positive  126402758403305474  Tue Oct 18 21:02:20 +0000 2011   \n",
       "3  apple  positive  126397179614068736  Tue Oct 18 20:40:10 +0000 2011   \n",
       "4  apple  positive  126395626979196928  Tue Oct 18 20:34:00 +0000 2011   \n",
       "5  apple  positive  126394830791254016  Tue Oct 18 20:30:50 +0000 2011   \n",
       "6  apple  positive  126379685453119488  Tue Oct 18 19:30:39 +0000 2011   \n",
       "7  apple  positive  126377656416612353  Tue Oct 18 19:22:35 +0000 2011   \n",
       "8  apple  positive  126373779483004928  Tue Oct 18 19:07:11 +0000 2011   \n",
       "9  apple  positive  126366353757179904  Tue Oct 18 18:37:41 +0000 2011   \n",
       "\n",
       "                                           TweetText  \n",
       "0  Now all @Apple has to do is get swype on the i...  \n",
       "1  @Apple will be adding more carrier support to ...  \n",
       "2  Hilarious @youtube video - guy does a duet wit...  \n",
       "3  @RIM you made it too easy for me to switch to ...  \n",
       "4  I just realized that the reason I got into twi...  \n",
       "5  I'm a current @Blackberry user, little bit dis...  \n",
       "6  The 16 strangest things Siri has said so far. ...  \n",
       "7  Great up close & personal event @Apple tonight...  \n",
       "8  From which companies do you experience the bes...  \n",
       "9  Just apply for a job at @Apple, hope they call...  "
      ]
     },
     "execution_count": 48,
     "metadata": {},
     "output_type": "execute_result"
    }
   ],
   "source": [
    "test.head(10)"
   ]
  },
  {
   "cell_type": "code",
   "execution_count": 51,
   "metadata": {
    "scrolled": true
   },
   "outputs": [
    {
     "name": "stdout",
     "output_type": "stream",
     "text": [
      "-0.6351\n",
      "0.4588\n",
      "-0.3699\n",
      "0.0\n",
      "-0.6496\n",
      "0.0\n",
      "0.0\n",
      "0.0\n",
      "-0.5542\n",
      "0.5106\n"
     ]
    }
   ],
   "source": [
    "for x in range(475,485):\n",
    "    print(sia.polarity_scores(test['TweetText'][x])['compound'])"
   ]
  },
  {
   "cell_type": "code",
   "execution_count": 54,
   "metadata": {},
   "outputs": [
    {
     "data": {
      "text/html": [
       "<div>\n",
       "<style scoped>\n",
       "    .dataframe tbody tr th:only-of-type {\n",
       "        vertical-align: middle;\n",
       "    }\n",
       "\n",
       "    .dataframe tbody tr th {\n",
       "        vertical-align: top;\n",
       "    }\n",
       "\n",
       "    .dataframe thead th {\n",
       "        text-align: right;\n",
       "    }\n",
       "</style>\n",
       "<table border=\"1\" class=\"dataframe\">\n",
       "  <thead>\n",
       "    <tr style=\"text-align: right;\">\n",
       "      <th></th>\n",
       "      <th>Topic</th>\n",
       "      <th>Sentiment</th>\n",
       "      <th>TweetId</th>\n",
       "      <th>TweetDate</th>\n",
       "      <th>TweetText</th>\n",
       "    </tr>\n",
       "  </thead>\n",
       "  <tbody>\n",
       "    <tr>\n",
       "      <th>475</th>\n",
       "      <td>apple</td>\n",
       "      <td>negative</td>\n",
       "      <td>125224588253741056</td>\n",
       "      <td>Sat Oct 15 15:00:43 +0000 2011</td>\n",
       "      <td>#Siri went down for a little while last night....</td>\n",
       "    </tr>\n",
       "    <tr>\n",
       "      <th>476</th>\n",
       "      <td>apple</td>\n",
       "      <td>negative</td>\n",
       "      <td>125223685194915840</td>\n",
       "      <td>Sat Oct 15 14:57:07 +0000 2011</td>\n",
       "      <td>@ford should have teamed up with @Apple instea...</td>\n",
       "    </tr>\n",
       "    <tr>\n",
       "      <th>477</th>\n",
       "      <td>apple</td>\n",
       "      <td>negative</td>\n",
       "      <td>125204228967903232</td>\n",
       "      <td>Sat Oct 15 13:39:49 +0000 2011</td>\n",
       "      <td>Installed io5 - fine on ipad but wiped wife's ...</td>\n",
       "    </tr>\n",
       "    <tr>\n",
       "      <th>478</th>\n",
       "      <td>apple</td>\n",
       "      <td>negative</td>\n",
       "      <td>125202037293064192</td>\n",
       "      <td>Sat Oct 15 13:31:06 +0000 2011</td>\n",
       "      <td>RT @gdcurry: Really @Apple?  What have you don...</td>\n",
       "    </tr>\n",
       "    <tr>\n",
       "      <th>479</th>\n",
       "      <td>apple</td>\n",
       "      <td>negative</td>\n",
       "      <td>125129328446017536</td>\n",
       "      <td>Sat Oct 15 08:42:11 +0000 2011</td>\n",
       "      <td>DAMN YOU !!! @apple</td>\n",
       "    </tr>\n",
       "    <tr>\n",
       "      <th>480</th>\n",
       "      <td>apple</td>\n",
       "      <td>neutral</td>\n",
       "      <td>126417484017451009</td>\n",
       "      <td>Tue Oct 18 22:00:51 +0000 2011</td>\n",
       "      <td>@Late_Show I would have watched but the folks ...</td>\n",
       "    </tr>\n",
       "    <tr>\n",
       "      <th>481</th>\n",
       "      <td>apple</td>\n",
       "      <td>neutral</td>\n",
       "      <td>126415742177513472</td>\n",
       "      <td>Tue Oct 18 21:53:56 +0000 2011</td>\n",
       "      <td>RT @rdingwell: .@Apple has a record quarter an...</td>\n",
       "    </tr>\n",
       "    <tr>\n",
       "      <th>482</th>\n",
       "      <td>apple</td>\n",
       "      <td>neutral</td>\n",
       "      <td>126415618625912832</td>\n",
       "      <td>Tue Oct 18 21:53:26 +0000 2011</td>\n",
       "      <td>Hey @apple, androids releasing brand new state...</td>\n",
       "    </tr>\n",
       "    <tr>\n",
       "      <th>483</th>\n",
       "      <td>apple</td>\n",
       "      <td>neutral</td>\n",
       "      <td>126414657836687362</td>\n",
       "      <td>Tue Oct 18 21:49:37 +0000 2011</td>\n",
       "      <td>.@Apple has a record quarter and because a bun...</td>\n",
       "    </tr>\n",
       "    <tr>\n",
       "      <th>484</th>\n",
       "      <td>apple</td>\n",
       "      <td>neutral</td>\n",
       "      <td>126410146703351808</td>\n",
       "      <td>Tue Oct 18 21:31:42 +0000 2011</td>\n",
       "      <td>@Apple how fun wouldn't it be if it was possib...</td>\n",
       "    </tr>\n",
       "  </tbody>\n",
       "</table>\n",
       "</div>"
      ],
      "text/plain": [
       "     Topic Sentiment             TweetId                       TweetDate  \\\n",
       "475  apple  negative  125224588253741056  Sat Oct 15 15:00:43 +0000 2011   \n",
       "476  apple  negative  125223685194915840  Sat Oct 15 14:57:07 +0000 2011   \n",
       "477  apple  negative  125204228967903232  Sat Oct 15 13:39:49 +0000 2011   \n",
       "478  apple  negative  125202037293064192  Sat Oct 15 13:31:06 +0000 2011   \n",
       "479  apple  negative  125129328446017536  Sat Oct 15 08:42:11 +0000 2011   \n",
       "480  apple   neutral  126417484017451009  Tue Oct 18 22:00:51 +0000 2011   \n",
       "481  apple   neutral  126415742177513472  Tue Oct 18 21:53:56 +0000 2011   \n",
       "482  apple   neutral  126415618625912832  Tue Oct 18 21:53:26 +0000 2011   \n",
       "483  apple   neutral  126414657836687362  Tue Oct 18 21:49:37 +0000 2011   \n",
       "484  apple   neutral  126410146703351808  Tue Oct 18 21:31:42 +0000 2011   \n",
       "\n",
       "                                             TweetText  \n",
       "475  #Siri went down for a little while last night....  \n",
       "476  @ford should have teamed up with @Apple instea...  \n",
       "477  Installed io5 - fine on ipad but wiped wife's ...  \n",
       "478  RT @gdcurry: Really @Apple?  What have you don...  \n",
       "479                                DAMN YOU !!! @apple  \n",
       "480  @Late_Show I would have watched but the folks ...  \n",
       "481  RT @rdingwell: .@Apple has a record quarter an...  \n",
       "482  Hey @apple, androids releasing brand new state...  \n",
       "483  .@Apple has a record quarter and because a bun...  \n",
       "484  @Apple how fun wouldn't it be if it was possib...  "
      ]
     },
     "execution_count": 54,
     "metadata": {},
     "output_type": "execute_result"
    }
   ],
   "source": [
    "test.iloc[475:485, :]"
   ]
  },
  {
   "cell_type": "code",
   "execution_count": 50,
   "metadata": {},
   "outputs": [
    {
     "name": "stdout",
     "output_type": "stream",
     "text": [
      "I'm a current @Blackberry user, little bit disappointed with it! Should I move to @Android or @Apple @iphone\n"
     ]
    }
   ],
   "source": [
    "print(test['TweetText'][5])"
   ]
  },
  {
   "cell_type": "code",
   "execution_count": 55,
   "metadata": {},
   "outputs": [
    {
     "name": "stdout",
     "output_type": "stream",
     "text": [
      "Sentiment(classification='pos', p_pos=0.8334341591940115, p_neg=0.16656584080598585)\n",
      "Sentiment(classification='pos', p_pos=0.9465776649056847, p_neg=0.05342233509431446)\n",
      "Sentiment(classification='pos', p_pos=0.9039735123839535, p_neg=0.09602648761604454)\n",
      "Sentiment(classification='pos', p_pos=0.8102297749638064, p_neg=0.18977022503619442)\n",
      "Sentiment(classification='pos', p_pos=0.5386791641295602, p_neg=0.4613208358704399)\n",
      "Sentiment(classification='pos', p_pos=0.726886024740699, p_neg=0.2731139752592998)\n",
      "Sentiment(classification='pos', p_pos=0.8279267786826017, p_neg=0.17207322131739838)\n",
      "Sentiment(classification='pos', p_pos=0.8201646203830273, p_neg=0.17983537961697305)\n",
      "Sentiment(classification='pos', p_pos=0.7326715118947468, p_neg=0.26732848810525106)\n",
      "Sentiment(classification='pos', p_pos=0.8165387032516623, p_neg=0.18346129674833808)\n"
     ]
    }
   ],
   "source": [
    "for x in range(475,485):\n",
    "    print(TextBlob(test[\"TweetText\"][x], analyzer=NaiveBayesAnalyzer()).sentiment)"
   ]
  },
  {
   "cell_type": "code",
   "execution_count": null,
   "metadata": {},
   "outputs": [],
   "source": []
  },
  {
   "cell_type": "code",
   "execution_count": null,
   "metadata": {},
   "outputs": [],
   "source": []
  },
  {
   "cell_type": "code",
   "execution_count": 37,
   "metadata": {},
   "outputs": [
    {
     "name": "stdout",
     "output_type": "stream",
     "text": [
      "Collecting pycorenlp\n",
      "  Downloading https://files.pythonhosted.org/packages/cd/40/e74eb4fc7906d630b73a84c9ae9d824f694bd4c5a1d727b8e18beadff613/pycorenlp-0.3.0.tar.gz\n",
      "Collecting requests (from pycorenlp)\n",
      "  Downloading https://files.pythonhosted.org/packages/51/bd/23c926cd341ea6b7dd0b2a00aba99ae0f828be89d72b2190f27c11d4b7fb/requests-2.22.0-py2.py3-none-any.whl (57kB)\n",
      "Collecting urllib3!=1.25.0,!=1.25.1,<1.26,>=1.21.1 (from requests->pycorenlp)\n",
      "  Downloading https://files.pythonhosted.org/packages/81/b7/cef47224900ca67078ed6e2db51342796007433ad38329558f56a15255f5/urllib3-1.25.5-py2.py3-none-any.whl (125kB)\n",
      "Collecting certifi>=2017.4.17 (from requests->pycorenlp)\n",
      "  Downloading https://files.pythonhosted.org/packages/18/b0/8146a4f8dd402f60744fa380bc73ca47303cccf8b9190fd16a827281eac2/certifi-2019.9.11-py2.py3-none-any.whl (154kB)\n",
      "Collecting chardet<3.1.0,>=3.0.2 (from requests->pycorenlp)\n",
      "  Downloading https://files.pythonhosted.org/packages/bc/a9/01ffebfb562e4274b6487b4bb1ddec7ca55ec7510b22e4c51f14098443b8/chardet-3.0.4-py2.py3-none-any.whl (133kB)\n",
      "Collecting idna<2.9,>=2.5 (from requests->pycorenlp)\n",
      "  Downloading https://files.pythonhosted.org/packages/14/2c/cd551d81dbe15200be1cf41cd03869a46fe7226e7450af7a6545bfc474c9/idna-2.8-py2.py3-none-any.whl (58kB)\n",
      "Installing collected packages: urllib3, certifi, chardet, idna, requests, pycorenlp\n",
      "  Running setup.py install for pycorenlp: started\n",
      "    Running setup.py install for pycorenlp: finished with status 'done'\n",
      "Successfully installed certifi-2019.9.11 chardet-3.0.4 idna-2.8 pycorenlp-0.3.0 requests-2.22.0 urllib3-1.25.5\n"
     ]
    },
    {
     "name": "stderr",
     "output_type": "stream",
     "text": [
      "WARNING: You are using pip version 19.2.2, however version 19.2.3 is available.\n",
      "You should consider upgrading via the 'python -m pip install --upgrade pip' command.\n"
     ]
    }
   ],
   "source": [
    "!pip install pycorenlp"
   ]
  },
  {
   "cell_type": "code",
   "execution_count": null,
   "metadata": {},
   "outputs": [],
   "source": []
  }
 ],
 "metadata": {
  "kernelspec": {
   "display_name": "Python 3",
   "language": "python",
   "name": "python3"
  },
  "language_info": {
   "codemirror_mode": {
    "name": "ipython",
    "version": 3
   },
   "file_extension": ".py",
   "mimetype": "text/x-python",
   "name": "python",
   "nbconvert_exporter": "python",
   "pygments_lexer": "ipython3",
   "version": "3.7.4"
  }
 },
 "nbformat": 4,
 "nbformat_minor": 2
}
