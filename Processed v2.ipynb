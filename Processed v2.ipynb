{
 "cells": [
  {
   "cell_type": "code",
   "execution_count": 1,
   "metadata": {},
   "outputs": [],
   "source": [
    "import numpy as np\n",
    "import pandas as pd\n",
    "import re\n",
    "import html\n",
    "import os.path\n",
    "from datetime import datetime as dt\n",
    "import math\n",
    "\n",
    "from datetime import date, timedelta\n",
    "\n",
    "import matplotlib.pyplot as plt\n",
    "%matplotlib inline"
   ]
  },
  {
   "cell_type": "code",
   "execution_count": 2,
   "metadata": {
    "scrolled": true
   },
   "outputs": [],
   "source": [
    "st_raw = pd.read_excel('C://Users//yan_m//OneDrive//Desktop//Jupyter//IND5003//Project//data//st_raw_10000_01Oct19.xlsx', header=0, encoding = 'unicode_escape')"
   ]
  },
  {
   "cell_type": "code",
   "execution_count": 3,
   "metadata": {
    "scrolled": true
   },
   "outputs": [
    {
     "data": {
      "text/html": [
       "<div>\n",
       "<style scoped>\n",
       "    .dataframe tbody tr th:only-of-type {\n",
       "        vertical-align: middle;\n",
       "    }\n",
       "\n",
       "    .dataframe tbody tr th {\n",
       "        vertical-align: top;\n",
       "    }\n",
       "\n",
       "    .dataframe thead th {\n",
       "        text-align: right;\n",
       "    }\n",
       "</style>\n",
       "<table border=\"1\" class=\"dataframe\">\n",
       "  <thead>\n",
       "    <tr style=\"text-align: right;\">\n",
       "      <th></th>\n",
       "      <th>Title</th>\n",
       "      <th>st_3SL2gug</th>\n",
       "      <th>st_28bQfzV</th>\n",
       "      <th>st_3xRimaf</th>\n",
       "      <th>lib_XwnOHoV</th>\n",
       "    </tr>\n",
       "  </thead>\n",
       "  <tbody>\n",
       "    <tr>\n",
       "      <th>0</th>\n",
       "      <td>DestroyTheCoiner</td>\n",
       "      <td>$AMD  Then you remember back a bit, with Obama...</td>\n",
       "      <td>Sep 29th, 4:09 pm</td>\n",
       "      <td>1.0</td>\n",
       "      <td>Bullish</td>\n",
       "    </tr>\n",
       "    <tr>\n",
       "      <th>1</th>\n",
       "      <td>GoodNewsBull</td>\n",
       "      <td>$SPY As you know @Bigmoney1977 is afraid of \"r...</td>\n",
       "      <td>Sep 29th, 3:40 pm</td>\n",
       "      <td>1.0</td>\n",
       "      <td>NaN</td>\n",
       "    </tr>\n",
       "    <tr>\n",
       "      <th>2</th>\n",
       "      <td>sethmarcus</td>\n",
       "      <td>$UVXY $TVIX $VXX $AAPL $INTC dont miss our lat...</td>\n",
       "      <td>Sep 29th, 3:29 pm</td>\n",
       "      <td>1.0</td>\n",
       "      <td>NaN</td>\n",
       "    </tr>\n",
       "    <tr>\n",
       "      <th>3</th>\n",
       "      <td>GoodNewsBull</td>\n",
       "      <td>$SPY The Bears were hoping for that \"news\"to b...</td>\n",
       "      <td>Sep 29th, 3:23 pm</td>\n",
       "      <td>5.0</td>\n",
       "      <td>NaN</td>\n",
       "    </tr>\n",
       "    <tr>\n",
       "      <th>4</th>\n",
       "      <td>calvingrinder</td>\n",
       "      <td>$AAPL I lived through Watergate and followed i...</td>\n",
       "      <td>Sep 29th, 3:17 pm</td>\n",
       "      <td>1.0</td>\n",
       "      <td>Bullish</td>\n",
       "    </tr>\n",
       "  </tbody>\n",
       "</table>\n",
       "</div>"
      ],
      "text/plain": [
       "              Title                                         st_3SL2gug  \\\n",
       "0  DestroyTheCoiner  $AMD  Then you remember back a bit, with Obama...   \n",
       "1      GoodNewsBull  $SPY As you know @Bigmoney1977 is afraid of \"r...   \n",
       "2        sethmarcus  $UVXY $TVIX $VXX $AAPL $INTC dont miss our lat...   \n",
       "3      GoodNewsBull  $SPY The Bears were hoping for that \"news\"to b...   \n",
       "4     calvingrinder  $AAPL I lived through Watergate and followed i...   \n",
       "\n",
       "          st_28bQfzV  st_3xRimaf lib_XwnOHoV  \n",
       "0  Sep 29th, 4:09 pm         1.0     Bullish  \n",
       "1  Sep 29th, 3:40 pm         1.0         NaN  \n",
       "2  Sep 29th, 3:29 pm         1.0         NaN  \n",
       "3  Sep 29th, 3:23 pm         5.0         NaN  \n",
       "4  Sep 29th, 3:17 pm         1.0     Bullish  "
      ]
     },
     "execution_count": 3,
     "metadata": {},
     "output_type": "execute_result"
    }
   ],
   "source": [
    "st_raw.head()"
   ]
  },
  {
   "cell_type": "code",
   "execution_count": 4,
   "metadata": {},
   "outputs": [],
   "source": [
    "st = st_raw.iloc[:,1:4]"
   ]
  },
  {
   "cell_type": "code",
   "execution_count": 5,
   "metadata": {
    "scrolled": true
   },
   "outputs": [
    {
     "data": {
      "text/html": [
       "<div>\n",
       "<style scoped>\n",
       "    .dataframe tbody tr th:only-of-type {\n",
       "        vertical-align: middle;\n",
       "    }\n",
       "\n",
       "    .dataframe tbody tr th {\n",
       "        vertical-align: top;\n",
       "    }\n",
       "\n",
       "    .dataframe thead th {\n",
       "        text-align: right;\n",
       "    }\n",
       "</style>\n",
       "<table border=\"1\" class=\"dataframe\">\n",
       "  <thead>\n",
       "    <tr style=\"text-align: right;\">\n",
       "      <th></th>\n",
       "      <th>message</th>\n",
       "      <th>datetime</th>\n",
       "      <th>likes</th>\n",
       "    </tr>\n",
       "  </thead>\n",
       "  <tbody>\n",
       "    <tr>\n",
       "      <th>0</th>\n",
       "      <td>$AMD  Then you remember back a bit, with Obama...</td>\n",
       "      <td>Sep 29th, 4:09 pm</td>\n",
       "      <td>1.0</td>\n",
       "    </tr>\n",
       "    <tr>\n",
       "      <th>1</th>\n",
       "      <td>$SPY As you know @Bigmoney1977 is afraid of \"r...</td>\n",
       "      <td>Sep 29th, 3:40 pm</td>\n",
       "      <td>1.0</td>\n",
       "    </tr>\n",
       "    <tr>\n",
       "      <th>2</th>\n",
       "      <td>$UVXY $TVIX $VXX $AAPL $INTC dont miss our lat...</td>\n",
       "      <td>Sep 29th, 3:29 pm</td>\n",
       "      <td>1.0</td>\n",
       "    </tr>\n",
       "    <tr>\n",
       "      <th>3</th>\n",
       "      <td>$SPY The Bears were hoping for that \"news\"to b...</td>\n",
       "      <td>Sep 29th, 3:23 pm</td>\n",
       "      <td>5.0</td>\n",
       "    </tr>\n",
       "    <tr>\n",
       "      <th>4</th>\n",
       "      <td>$AAPL I lived through Watergate and followed i...</td>\n",
       "      <td>Sep 29th, 3:17 pm</td>\n",
       "      <td>1.0</td>\n",
       "    </tr>\n",
       "  </tbody>\n",
       "</table>\n",
       "</div>"
      ],
      "text/plain": [
       "                                             message           datetime  likes\n",
       "0  $AMD  Then you remember back a bit, with Obama...  Sep 29th, 4:09 pm    1.0\n",
       "1  $SPY As you know @Bigmoney1977 is afraid of \"r...  Sep 29th, 3:40 pm    1.0\n",
       "2  $UVXY $TVIX $VXX $AAPL $INTC dont miss our lat...  Sep 29th, 3:29 pm    1.0\n",
       "3  $SPY The Bears were hoping for that \"news\"to b...  Sep 29th, 3:23 pm    5.0\n",
       "4  $AAPL I lived through Watergate and followed i...  Sep 29th, 3:17 pm    1.0"
      ]
     },
     "execution_count": 5,
     "metadata": {},
     "output_type": "execute_result"
    }
   ],
   "source": [
    "st.columns=['message', 'datetime', 'likes']\n",
    "st.head()"
   ]
  },
  {
   "cell_type": "code",
   "execution_count": 6,
   "metadata": {
    "scrolled": true
   },
   "outputs": [
    {
     "data": {
      "text/html": [
       "<div>\n",
       "<style scoped>\n",
       "    .dataframe tbody tr th:only-of-type {\n",
       "        vertical-align: middle;\n",
       "    }\n",
       "\n",
       "    .dataframe tbody tr th {\n",
       "        vertical-align: top;\n",
       "    }\n",
       "\n",
       "    .dataframe thead th {\n",
       "        text-align: right;\n",
       "    }\n",
       "</style>\n",
       "<table border=\"1\" class=\"dataframe\">\n",
       "  <thead>\n",
       "    <tr style=\"text-align: right;\">\n",
       "      <th></th>\n",
       "      <th>message</th>\n",
       "      <th>datetime</th>\n",
       "      <th>likes</th>\n",
       "    </tr>\n",
       "  </thead>\n",
       "  <tbody>\n",
       "    <tr>\n",
       "      <th>0</th>\n",
       "      <td>$AMD  Then you remember back a bit, with Obama...</td>\n",
       "      <td>Sep 29th, 4:09 pm</td>\n",
       "      <td>1.0</td>\n",
       "    </tr>\n",
       "    <tr>\n",
       "      <th>1</th>\n",
       "      <td>$SPY As you know @Bigmoney1977 is afraid of \"r...</td>\n",
       "      <td>Sep 29th, 3:40 pm</td>\n",
       "      <td>1.0</td>\n",
       "    </tr>\n",
       "    <tr>\n",
       "      <th>2</th>\n",
       "      <td>$UVXY $TVIX $VXX $AAPL $INTC dont miss our lat...</td>\n",
       "      <td>Sep 29th, 3:29 pm</td>\n",
       "      <td>1.0</td>\n",
       "    </tr>\n",
       "    <tr>\n",
       "      <th>3</th>\n",
       "      <td>$SPY The Bears were hoping for that \"news\"to b...</td>\n",
       "      <td>Sep 29th, 3:23 pm</td>\n",
       "      <td>5.0</td>\n",
       "    </tr>\n",
       "    <tr>\n",
       "      <th>4</th>\n",
       "      <td>$AAPL I lived through Watergate and followed i...</td>\n",
       "      <td>Sep 29th, 3:17 pm</td>\n",
       "      <td>1.0</td>\n",
       "    </tr>\n",
       "  </tbody>\n",
       "</table>\n",
       "</div>"
      ],
      "text/plain": [
       "                                             message           datetime  likes\n",
       "0  $AMD  Then you remember back a bit, with Obama...  Sep 29th, 4:09 pm    1.0\n",
       "1  $SPY As you know @Bigmoney1977 is afraid of \"r...  Sep 29th, 3:40 pm    1.0\n",
       "2  $UVXY $TVIX $VXX $AAPL $INTC dont miss our lat...  Sep 29th, 3:29 pm    1.0\n",
       "3  $SPY The Bears were hoping for that \"news\"to b...  Sep 29th, 3:23 pm    5.0\n",
       "4  $AAPL I lived through Watergate and followed i...  Sep 29th, 3:17 pm    1.0"
      ]
     },
     "execution_count": 6,
     "metadata": {},
     "output_type": "execute_result"
    }
   ],
   "source": [
    "st.likes.fillna(0, inplace = True)\n",
    "st.head()"
   ]
  },
  {
   "cell_type": "markdown",
   "metadata": {},
   "source": [
    "Create a time-series"
   ]
  },
  {
   "cell_type": "code",
   "execution_count": 7,
   "metadata": {
    "scrolled": true
   },
   "outputs": [
    {
     "data": {
      "text/html": [
       "<div>\n",
       "<style scoped>\n",
       "    .dataframe tbody tr th:only-of-type {\n",
       "        vertical-align: middle;\n",
       "    }\n",
       "\n",
       "    .dataframe tbody tr th {\n",
       "        vertical-align: top;\n",
       "    }\n",
       "\n",
       "    .dataframe thead th {\n",
       "        text-align: right;\n",
       "    }\n",
       "</style>\n",
       "<table border=\"1\" class=\"dataframe\">\n",
       "  <thead>\n",
       "    <tr style=\"text-align: right;\">\n",
       "      <th></th>\n",
       "      <th>message</th>\n",
       "      <th>datetime</th>\n",
       "      <th>likes</th>\n",
       "    </tr>\n",
       "  </thead>\n",
       "  <tbody>\n",
       "    <tr>\n",
       "      <th>0</th>\n",
       "      <td>$AMD  Then you remember back a bit, with Obama...</td>\n",
       "      <td>2019 Sep 29 4:09 pm</td>\n",
       "      <td>1.0</td>\n",
       "    </tr>\n",
       "    <tr>\n",
       "      <th>1</th>\n",
       "      <td>$SPY As you know @Bigmoney1977 is afraid of \"r...</td>\n",
       "      <td>2019 Sep 29 3:40 pm</td>\n",
       "      <td>1.0</td>\n",
       "    </tr>\n",
       "    <tr>\n",
       "      <th>2</th>\n",
       "      <td>$UVXY $TVIX $VXX $AAPL $INTC dont miss our lat...</td>\n",
       "      <td>2019 Sep 29 3:29 pm</td>\n",
       "      <td>1.0</td>\n",
       "    </tr>\n",
       "    <tr>\n",
       "      <th>3</th>\n",
       "      <td>$SPY The Bears were hoping for that \"news\"to b...</td>\n",
       "      <td>2019 Sep 29 3:23 pm</td>\n",
       "      <td>5.0</td>\n",
       "    </tr>\n",
       "    <tr>\n",
       "      <th>4</th>\n",
       "      <td>$AAPL I lived through Watergate and followed i...</td>\n",
       "      <td>2019 Sep 29 3:17 pm</td>\n",
       "      <td>1.0</td>\n",
       "    </tr>\n",
       "  </tbody>\n",
       "</table>\n",
       "</div>"
      ],
      "text/plain": [
       "                                             message             datetime  \\\n",
       "0  $AMD  Then you remember back a bit, with Obama...  2019 Sep 29 4:09 pm   \n",
       "1  $SPY As you know @Bigmoney1977 is afraid of \"r...  2019 Sep 29 3:40 pm   \n",
       "2  $UVXY $TVIX $VXX $AAPL $INTC dont miss our lat...  2019 Sep 29 3:29 pm   \n",
       "3  $SPY The Bears were hoping for that \"news\"to b...  2019 Sep 29 3:23 pm   \n",
       "4  $AAPL I lived through Watergate and followed i...  2019 Sep 29 3:17 pm   \n",
       "\n",
       "   likes  \n",
       "0    1.0  \n",
       "1    1.0  \n",
       "2    1.0  \n",
       "3    5.0  \n",
       "4    1.0  "
      ]
     },
     "execution_count": 7,
     "metadata": {},
     "output_type": "execute_result"
    }
   ],
   "source": [
    "st.datetime = st.datetime.str.replace('th,', '')\n",
    "st.datetime = st.datetime.str.replace('rd,', '')\n",
    "st.datetime = st.datetime.str.replace('nd,', '')\n",
    "st.datetime = st.datetime.str.replace('st,', '')\n",
    "# can be reduced?\n",
    "\n",
    "st.datetime = '2019 ' + st.datetime\n",
    "st.head()"
   ]
  },
  {
   "cell_type": "code",
   "execution_count": 8,
   "metadata": {},
   "outputs": [
    {
     "data": {
      "text/plain": [
       "datetime.datetime(2019, 9, 29, 16, 9)"
      ]
     },
     "execution_count": 8,
     "metadata": {},
     "output_type": "execute_result"
    }
   ],
   "source": [
    "dt.strptime(st.datetime[0],\"%Y %b %d %I:%M %p\")"
   ]
  },
  {
   "cell_type": "code",
   "execution_count": 9,
   "metadata": {
    "scrolled": false
   },
   "outputs": [],
   "source": [
    "st['datetime'] = st['datetime'].apply(lambda x: dt.strptime(x, \"%Y %b %d %I:%M %p\"))"
   ]
  },
  {
   "cell_type": "code",
   "execution_count": 10,
   "metadata": {
    "scrolled": true
   },
   "outputs": [
    {
     "data": {
      "text/html": [
       "<div>\n",
       "<style scoped>\n",
       "    .dataframe tbody tr th:only-of-type {\n",
       "        vertical-align: middle;\n",
       "    }\n",
       "\n",
       "    .dataframe tbody tr th {\n",
       "        vertical-align: top;\n",
       "    }\n",
       "\n",
       "    .dataframe thead th {\n",
       "        text-align: right;\n",
       "    }\n",
       "</style>\n",
       "<table border=\"1\" class=\"dataframe\">\n",
       "  <thead>\n",
       "    <tr style=\"text-align: right;\">\n",
       "      <th></th>\n",
       "      <th>message</th>\n",
       "      <th>datetime</th>\n",
       "      <th>likes</th>\n",
       "    </tr>\n",
       "  </thead>\n",
       "  <tbody>\n",
       "    <tr>\n",
       "      <th>0</th>\n",
       "      <td>$AMD  Then you remember back a bit, with Obama...</td>\n",
       "      <td>2019-09-29 16:09:00</td>\n",
       "      <td>1.0</td>\n",
       "    </tr>\n",
       "    <tr>\n",
       "      <th>1</th>\n",
       "      <td>$SPY As you know @Bigmoney1977 is afraid of \"r...</td>\n",
       "      <td>2019-09-29 15:40:00</td>\n",
       "      <td>1.0</td>\n",
       "    </tr>\n",
       "    <tr>\n",
       "      <th>2</th>\n",
       "      <td>$UVXY $TVIX $VXX $AAPL $INTC dont miss our lat...</td>\n",
       "      <td>2019-09-29 15:29:00</td>\n",
       "      <td>1.0</td>\n",
       "    </tr>\n",
       "    <tr>\n",
       "      <th>3</th>\n",
       "      <td>$SPY The Bears were hoping for that \"news\"to b...</td>\n",
       "      <td>2019-09-29 15:23:00</td>\n",
       "      <td>5.0</td>\n",
       "    </tr>\n",
       "    <tr>\n",
       "      <th>4</th>\n",
       "      <td>$AAPL I lived through Watergate and followed i...</td>\n",
       "      <td>2019-09-29 15:17:00</td>\n",
       "      <td>1.0</td>\n",
       "    </tr>\n",
       "    <tr>\n",
       "      <th>5</th>\n",
       "      <td>Only a matter of time before Trump is on Twitt...</td>\n",
       "      <td>2019-09-29 15:15:00</td>\n",
       "      <td>3.0</td>\n",
       "    </tr>\n",
       "    <tr>\n",
       "      <th>6</th>\n",
       "      <td>$AAPL $QQQ $SPY $ES_F $NQ_F \\nIt’s time to dra...</td>\n",
       "      <td>2019-09-29 15:14:00</td>\n",
       "      <td>4.0</td>\n",
       "    </tr>\n",
       "    <tr>\n",
       "      <th>7</th>\n",
       "      <td>$FB $AMZN $AAPL $NFLX $GOOG \\n\\nSunday routine...</td>\n",
       "      <td>2019-09-29 14:43:00</td>\n",
       "      <td>2.0</td>\n",
       "    </tr>\n",
       "    <tr>\n",
       "      <th>8</th>\n",
       "      <td>$SPY $AAPL $AMZN $FB $TSLA \\nThe Barack Obama ...</td>\n",
       "      <td>2019-09-29 14:05:00</td>\n",
       "      <td>17.0</td>\n",
       "    </tr>\n",
       "    <tr>\n",
       "      <th>9</th>\n",
       "      <td>$AAPL \\nThis is what you can do on today iPad ...</td>\n",
       "      <td>2019-09-29 13:25:00</td>\n",
       "      <td>3.0</td>\n",
       "    </tr>\n",
       "    <tr>\n",
       "      <th>10</th>\n",
       "      <td>$SPY  $AAPL $AMZN  Hillary 2020, whose in?...</td>\n",
       "      <td>2019-09-29 12:50:00</td>\n",
       "      <td>2.0</td>\n",
       "    </tr>\n",
       "    <tr>\n",
       "      <th>11</th>\n",
       "      <td>$SPY $AAPL $AMZN  $QQQ $IWM    Socialists Unit...</td>\n",
       "      <td>2019-09-29 10:02:00</td>\n",
       "      <td>2.0</td>\n",
       "    </tr>\n",
       "    <tr>\n",
       "      <th>12</th>\n",
       "      <td>$BABA $SPY $AMZN $AAPL - gap up to highs monda...</td>\n",
       "      <td>2019-09-29 09:42:00</td>\n",
       "      <td>2.0</td>\n",
       "    </tr>\n",
       "    <tr>\n",
       "      <th>13</th>\n",
       "      <td>$SPY $QQQ $IWM $AAPL</td>\n",
       "      <td>2019-09-29 09:41:00</td>\n",
       "      <td>1.0</td>\n",
       "    </tr>\n",
       "    <tr>\n",
       "      <th>14</th>\n",
       "      <td>$AAPL has a Return On Assets of 17.28%. This i...</td>\n",
       "      <td>2019-09-29 09:06:00</td>\n",
       "      <td>0.0</td>\n",
       "    </tr>\n",
       "    <tr>\n",
       "      <th>15</th>\n",
       "      <td>$SPY + $AAPL 4H solid rebound off July 30 supp...</td>\n",
       "      <td>2019-09-29 08:53:00</td>\n",
       "      <td>1.0</td>\n",
       "    </tr>\n",
       "    <tr>\n",
       "      <th>16</th>\n",
       "      <td>$AAPL waiting for the first battery to explode...</td>\n",
       "      <td>2019-09-29 08:52:00</td>\n",
       "      <td>0.0</td>\n",
       "    </tr>\n",
       "    <tr>\n",
       "      <th>17</th>\n",
       "      <td>$AAPL hasn’t fixed their antennas from droppin...</td>\n",
       "      <td>2019-09-29 08:51:00</td>\n",
       "      <td>0.0</td>\n",
       "    </tr>\n",
       "    <tr>\n",
       "      <th>18</th>\n",
       "      <td>$AAPL waiting to see how much Apple lovers wil...</td>\n",
       "      <td>2019-09-29 08:45:00</td>\n",
       "      <td>0.0</td>\n",
       "    </tr>\n",
       "    <tr>\n",
       "      <th>19</th>\n",
       "      <td>$SPY $QQQ  $AAPL  $MU  $M\\nThe Market is fille...</td>\n",
       "      <td>2019-09-29 08:36:00</td>\n",
       "      <td>1.0</td>\n",
       "    </tr>\n",
       "    <tr>\n",
       "      <th>20</th>\n",
       "      <td>Welcome to banana republic $SPY,  $AAPL $TQQQ,...</td>\n",
       "      <td>2019-09-29 08:17:00</td>\n",
       "      <td>0.0</td>\n",
       "    </tr>\n",
       "    <tr>\n",
       "      <th>21</th>\n",
       "      <td>forbes.com/sites/gordonkell...\\n\\n$AAPL 👁👁👁👁👁</td>\n",
       "      <td>2019-09-29 07:24:00</td>\n",
       "      <td>1.0</td>\n",
       "    </tr>\n",
       "    <tr>\n",
       "      <th>22</th>\n",
       "      <td>$AAPL who remembers trump surprise tweeting an...</td>\n",
       "      <td>2019-09-29 06:41:00</td>\n",
       "      <td>2.0</td>\n",
       "    </tr>\n",
       "    <tr>\n",
       "      <th>23</th>\n",
       "      <td>$AAPL trade talks not happening until October ...</td>\n",
       "      <td>2019-09-29 06:40:00</td>\n",
       "      <td>0.0</td>\n",
       "    </tr>\n",
       "    <tr>\n",
       "      <th>24</th>\n",
       "      <td>$SPY As long as you didn't short or buy Puts o...</td>\n",
       "      <td>2019-09-29 05:55:00</td>\n",
       "      <td>6.0</td>\n",
       "    </tr>\n",
       "    <tr>\n",
       "      <th>25</th>\n",
       "      <td>$AAPL $QQQ $SPYY $ES_F $NQ_F  \\nIf you have 30...</td>\n",
       "      <td>2019-09-29 05:54:00</td>\n",
       "      <td>0.0</td>\n",
       "    </tr>\n",
       "    <tr>\n",
       "      <th>26</th>\n",
       "      <td>Stock Twits  is a venue for a lot disingenuous...</td>\n",
       "      <td>2019-09-29 05:42:00</td>\n",
       "      <td>3.0</td>\n",
       "    </tr>\n",
       "    <tr>\n",
       "      <th>27</th>\n",
       "      <td>$SPY Bears dont be upset w/ Bulls. Buying Puts...</td>\n",
       "      <td>2019-09-29 05:40:00</td>\n",
       "      <td>6.0</td>\n",
       "    </tr>\n",
       "    <tr>\n",
       "      <th>28</th>\n",
       "      <td>$FB Sorry Bears but this was an easy call know...</td>\n",
       "      <td>2019-09-29 05:13:00</td>\n",
       "      <td>10.0</td>\n",
       "    </tr>\n",
       "    <tr>\n",
       "      <th>29</th>\n",
       "      <td>$AAPL watch for a move if it breaks $221 to th...</td>\n",
       "      <td>2019-09-29 05:02:00</td>\n",
       "      <td>0.0</td>\n",
       "    </tr>\n",
       "    <tr>\n",
       "      <th>...</th>\n",
       "      <td>...</td>\n",
       "      <td>...</td>\n",
       "      <td>...</td>\n",
       "    </tr>\n",
       "    <tr>\n",
       "      <th>9373</th>\n",
       "      <td>$AAPL SHORT</td>\n",
       "      <td>2019-09-10 21:11:00</td>\n",
       "      <td>1.0</td>\n",
       "    </tr>\n",
       "    <tr>\n",
       "      <th>9378</th>\n",
       "      <td>$AAPL at 699 you probably get the charger only.</td>\n",
       "      <td>2019-09-10 21:10:00</td>\n",
       "      <td>2.0</td>\n",
       "    </tr>\n",
       "    <tr>\n",
       "      <th>9380</th>\n",
       "      <td>$AAPL my iPhone 10 just lost 50% of its value!</td>\n",
       "      <td>2019-09-10 21:10:00</td>\n",
       "      <td>4.0</td>\n",
       "    </tr>\n",
       "    <tr>\n",
       "      <th>9379</th>\n",
       "      <td>$AAPL iphone pro with ultra ultra wide.</td>\n",
       "      <td>2019-09-10 21:10:00</td>\n",
       "      <td>1.0</td>\n",
       "    </tr>\n",
       "    <tr>\n",
       "      <th>9374</th>\n",
       "      <td>$AAPL lower asp’s? Really? That’s not going to...</td>\n",
       "      <td>2019-09-10 21:10:00</td>\n",
       "      <td>1.0</td>\n",
       "    </tr>\n",
       "    <tr>\n",
       "      <th>9377</th>\n",
       "      <td>$AAPL raising sell limit to 225✨</td>\n",
       "      <td>2019-09-10 21:10:00</td>\n",
       "      <td>1.0</td>\n",
       "    </tr>\n",
       "    <tr>\n",
       "      <th>9376</th>\n",
       "      <td>Apple event takes bite out of Disney, Roku, Ta...</td>\n",
       "      <td>2019-09-10 21:10:00</td>\n",
       "      <td>1.0</td>\n",
       "    </tr>\n",
       "    <tr>\n",
       "      <th>9375</th>\n",
       "      <td>$AAPL Announcing the new IPhone 12 Pro next ye...</td>\n",
       "      <td>2019-09-10 21:10:00</td>\n",
       "      <td>3.0</td>\n",
       "    </tr>\n",
       "    <tr>\n",
       "      <th>9386</th>\n",
       "      <td>Great Moments in $AAPL Design History: This ab...</td>\n",
       "      <td>2019-09-10 21:09:00</td>\n",
       "      <td>4.0</td>\n",
       "    </tr>\n",
       "    <tr>\n",
       "      <th>9385</th>\n",
       "      <td>$AAPL $699? I can’t wait to see how Wall Stree...</td>\n",
       "      <td>2019-09-10 21:09:00</td>\n",
       "      <td>2.0</td>\n",
       "    </tr>\n",
       "    <tr>\n",
       "      <th>9384</th>\n",
       "      <td>$AAPL will this company get some innovation go...</td>\n",
       "      <td>2019-09-10 21:09:00</td>\n",
       "      <td>1.0</td>\n",
       "    </tr>\n",
       "    <tr>\n",
       "      <th>9383</th>\n",
       "      <td>Video streaming will soon be free.  $AAPL STRE...</td>\n",
       "      <td>2019-09-10 21:09:00</td>\n",
       "      <td>1.0</td>\n",
       "    </tr>\n",
       "    <tr>\n",
       "      <th>9381</th>\n",
       "      <td>$AAPL $699 killer price</td>\n",
       "      <td>2019-09-10 21:09:00</td>\n",
       "      <td>2.0</td>\n",
       "    </tr>\n",
       "    <tr>\n",
       "      <th>9382</th>\n",
       "      <td>$AAPL $DIS $NFLX These 3 giants are all down t...</td>\n",
       "      <td>2019-09-10 21:09:00</td>\n",
       "      <td>1.0</td>\n",
       "    </tr>\n",
       "    <tr>\n",
       "      <th>9387</th>\n",
       "      <td>$AAPL soooo. Now that iPhones are cheaper than...</td>\n",
       "      <td>2019-09-10 21:08:00</td>\n",
       "      <td>1.0</td>\n",
       "    </tr>\n",
       "    <tr>\n",
       "      <th>9388</th>\n",
       "      <td>$AAPL  699 wow, actually competitve</td>\n",
       "      <td>2019-09-10 21:08:00</td>\n",
       "      <td>1.0</td>\n",
       "    </tr>\n",
       "    <tr>\n",
       "      <th>9389</th>\n",
       "      <td>$AAPL Pricing products lower than almost all t...</td>\n",
       "      <td>2019-09-10 21:08:00</td>\n",
       "      <td>1.0</td>\n",
       "    </tr>\n",
       "    <tr>\n",
       "      <th>9390</th>\n",
       "      <td>$AAPL 699!??? WOAH!!!!</td>\n",
       "      <td>2019-09-10 21:08:00</td>\n",
       "      <td>3.0</td>\n",
       "    </tr>\n",
       "    <tr>\n",
       "      <th>9391</th>\n",
       "      <td>$AAPL Yo.. BULLISH on the price</td>\n",
       "      <td>2019-09-10 21:08:00</td>\n",
       "      <td>1.0</td>\n",
       "    </tr>\n",
       "    <tr>\n",
       "      <th>9392</th>\n",
       "      <td>$AAPL what $699 why was the last one 1400</td>\n",
       "      <td>2019-09-10 21:08:00</td>\n",
       "      <td>1.0</td>\n",
       "    </tr>\n",
       "    <tr>\n",
       "      <th>9398</th>\n",
       "      <td>$AAPL WOW 1 more hour!</td>\n",
       "      <td>2019-09-10 21:07:00</td>\n",
       "      <td>1.0</td>\n",
       "    </tr>\n",
       "    <tr>\n",
       "      <th>9401</th>\n",
       "      <td>$AAPL IPHONE 11\\n\\n•New A13 Bionic -Next Gener...</td>\n",
       "      <td>2019-09-10 21:07:00</td>\n",
       "      <td>1.0</td>\n",
       "    </tr>\n",
       "    <tr>\n",
       "      <th>9400</th>\n",
       "      <td>$AAPL is about to explode be ready!!!!🤑🤑</td>\n",
       "      <td>2019-09-10 21:07:00</td>\n",
       "      <td>2.0</td>\n",
       "    </tr>\n",
       "    <tr>\n",
       "      <th>9399</th>\n",
       "      <td>$AAPL ding ding</td>\n",
       "      <td>2019-09-10 21:07:00</td>\n",
       "      <td>1.0</td>\n",
       "    </tr>\n",
       "    <tr>\n",
       "      <th>9393</th>\n",
       "      <td>$AAPL fuckkk yeah 699? I can afford it hahaha</td>\n",
       "      <td>2019-09-10 21:07:00</td>\n",
       "      <td>2.0</td>\n",
       "    </tr>\n",
       "    <tr>\n",
       "      <th>9397</th>\n",
       "      <td>$AAPL $699 I like the price</td>\n",
       "      <td>2019-09-10 21:07:00</td>\n",
       "      <td>3.0</td>\n",
       "    </tr>\n",
       "    <tr>\n",
       "      <th>9396</th>\n",
       "      <td>$AAPL $SPY  699 is a steal holy sht</td>\n",
       "      <td>2019-09-10 21:07:00</td>\n",
       "      <td>3.0</td>\n",
       "    </tr>\n",
       "    <tr>\n",
       "      <th>9395</th>\n",
       "      <td>$AAPL I'm getting it 699</td>\n",
       "      <td>2019-09-10 21:07:00</td>\n",
       "      <td>1.0</td>\n",
       "    </tr>\n",
       "    <tr>\n",
       "      <th>9394</th>\n",
       "      <td>$AAPL</td>\n",
       "      <td>2019-09-10 21:07:00</td>\n",
       "      <td>1.0</td>\n",
       "    </tr>\n",
       "    <tr>\n",
       "      <th>9402</th>\n",
       "      <td>$AAPL drops .30 with every video</td>\n",
       "      <td>2019-09-10 21:06:00</td>\n",
       "      <td>1.0</td>\n",
       "    </tr>\n",
       "  </tbody>\n",
       "</table>\n",
       "<p>9403 rows × 3 columns</p>\n",
       "</div>"
      ],
      "text/plain": [
       "                                                message            datetime  \\\n",
       "0     $AMD  Then you remember back a bit, with Obama... 2019-09-29 16:09:00   \n",
       "1     $SPY As you know @Bigmoney1977 is afraid of \"r... 2019-09-29 15:40:00   \n",
       "2     $UVXY $TVIX $VXX $AAPL $INTC dont miss our lat... 2019-09-29 15:29:00   \n",
       "3     $SPY The Bears were hoping for that \"news\"to b... 2019-09-29 15:23:00   \n",
       "4     $AAPL I lived through Watergate and followed i... 2019-09-29 15:17:00   \n",
       "5     Only a matter of time before Trump is on Twitt... 2019-09-29 15:15:00   \n",
       "6     $AAPL $QQQ $SPY $ES_F $NQ_F \\nIt’s time to dra... 2019-09-29 15:14:00   \n",
       "7     $FB $AMZN $AAPL $NFLX $GOOG \\n\\nSunday routine... 2019-09-29 14:43:00   \n",
       "8     $SPY $AAPL $AMZN $FB $TSLA \\nThe Barack Obama ... 2019-09-29 14:05:00   \n",
       "9     $AAPL \\nThis is what you can do on today iPad ... 2019-09-29 13:25:00   \n",
       "10        $SPY  $AAPL $AMZN  Hillary 2020, whose in?... 2019-09-29 12:50:00   \n",
       "11    $SPY $AAPL $AMZN  $QQQ $IWM    Socialists Unit... 2019-09-29 10:02:00   \n",
       "12    $BABA $SPY $AMZN $AAPL - gap up to highs monda... 2019-09-29 09:42:00   \n",
       "13                                 $SPY $QQQ $IWM $AAPL 2019-09-29 09:41:00   \n",
       "14    $AAPL has a Return On Assets of 17.28%. This i... 2019-09-29 09:06:00   \n",
       "15    $SPY + $AAPL 4H solid rebound off July 30 supp... 2019-09-29 08:53:00   \n",
       "16    $AAPL waiting for the first battery to explode... 2019-09-29 08:52:00   \n",
       "17    $AAPL hasn’t fixed their antennas from droppin... 2019-09-29 08:51:00   \n",
       "18    $AAPL waiting to see how much Apple lovers wil... 2019-09-29 08:45:00   \n",
       "19    $SPY $QQQ  $AAPL  $MU  $M\\nThe Market is fille... 2019-09-29 08:36:00   \n",
       "20    Welcome to banana republic $SPY,  $AAPL $TQQQ,... 2019-09-29 08:17:00   \n",
       "21        forbes.com/sites/gordonkell...\\n\\n$AAPL 👁👁👁👁👁 2019-09-29 07:24:00   \n",
       "22    $AAPL who remembers trump surprise tweeting an... 2019-09-29 06:41:00   \n",
       "23    $AAPL trade talks not happening until October ... 2019-09-29 06:40:00   \n",
       "24    $SPY As long as you didn't short or buy Puts o... 2019-09-29 05:55:00   \n",
       "25    $AAPL $QQQ $SPYY $ES_F $NQ_F  \\nIf you have 30... 2019-09-29 05:54:00   \n",
       "26    Stock Twits  is a venue for a lot disingenuous... 2019-09-29 05:42:00   \n",
       "27    $SPY Bears dont be upset w/ Bulls. Buying Puts... 2019-09-29 05:40:00   \n",
       "28    $FB Sorry Bears but this was an easy call know... 2019-09-29 05:13:00   \n",
       "29    $AAPL watch for a move if it breaks $221 to th... 2019-09-29 05:02:00   \n",
       "...                                                 ...                 ...   \n",
       "9373                                        $AAPL SHORT 2019-09-10 21:11:00   \n",
       "9378    $AAPL at 699 you probably get the charger only. 2019-09-10 21:10:00   \n",
       "9380     $AAPL my iPhone 10 just lost 50% of its value! 2019-09-10 21:10:00   \n",
       "9379            $AAPL iphone pro with ultra ultra wide. 2019-09-10 21:10:00   \n",
       "9374  $AAPL lower asp’s? Really? That’s not going to... 2019-09-10 21:10:00   \n",
       "9377                   $AAPL raising sell limit to 225✨ 2019-09-10 21:10:00   \n",
       "9376  Apple event takes bite out of Disney, Roku, Ta... 2019-09-10 21:10:00   \n",
       "9375  $AAPL Announcing the new IPhone 12 Pro next ye... 2019-09-10 21:10:00   \n",
       "9386  Great Moments in $AAPL Design History: This ab... 2019-09-10 21:09:00   \n",
       "9385  $AAPL $699? I can’t wait to see how Wall Stree... 2019-09-10 21:09:00   \n",
       "9384  $AAPL will this company get some innovation go... 2019-09-10 21:09:00   \n",
       "9383  Video streaming will soon be free.  $AAPL STRE... 2019-09-10 21:09:00   \n",
       "9381                            $AAPL $699 killer price 2019-09-10 21:09:00   \n",
       "9382  $AAPL $DIS $NFLX These 3 giants are all down t... 2019-09-10 21:09:00   \n",
       "9387  $AAPL soooo. Now that iPhones are cheaper than... 2019-09-10 21:08:00   \n",
       "9388                $AAPL  699 wow, actually competitve 2019-09-10 21:08:00   \n",
       "9389  $AAPL Pricing products lower than almost all t... 2019-09-10 21:08:00   \n",
       "9390                             $AAPL 699!??? WOAH!!!! 2019-09-10 21:08:00   \n",
       "9391                    $AAPL Yo.. BULLISH on the price 2019-09-10 21:08:00   \n",
       "9392          $AAPL what $699 why was the last one 1400 2019-09-10 21:08:00   \n",
       "9398                             $AAPL WOW 1 more hour! 2019-09-10 21:07:00   \n",
       "9401  $AAPL IPHONE 11\\n\\n•New A13 Bionic -Next Gener... 2019-09-10 21:07:00   \n",
       "9400           $AAPL is about to explode be ready!!!!🤑🤑 2019-09-10 21:07:00   \n",
       "9399                                    $AAPL ding ding 2019-09-10 21:07:00   \n",
       "9393      $AAPL fuckkk yeah 699? I can afford it hahaha 2019-09-10 21:07:00   \n",
       "9397                        $AAPL $699 I like the price 2019-09-10 21:07:00   \n",
       "9396                $AAPL $SPY  699 is a steal holy sht 2019-09-10 21:07:00   \n",
       "9395                           $AAPL I'm getting it 699 2019-09-10 21:07:00   \n",
       "9394                                              $AAPL 2019-09-10 21:07:00   \n",
       "9402                   $AAPL drops .30 with every video 2019-09-10 21:06:00   \n",
       "\n",
       "      likes  \n",
       "0       1.0  \n",
       "1       1.0  \n",
       "2       1.0  \n",
       "3       5.0  \n",
       "4       1.0  \n",
       "5       3.0  \n",
       "6       4.0  \n",
       "7       2.0  \n",
       "8      17.0  \n",
       "9       3.0  \n",
       "10      2.0  \n",
       "11      2.0  \n",
       "12      2.0  \n",
       "13      1.0  \n",
       "14      0.0  \n",
       "15      1.0  \n",
       "16      0.0  \n",
       "17      0.0  \n",
       "18      0.0  \n",
       "19      1.0  \n",
       "20      0.0  \n",
       "21      1.0  \n",
       "22      2.0  \n",
       "23      0.0  \n",
       "24      6.0  \n",
       "25      0.0  \n",
       "26      3.0  \n",
       "27      6.0  \n",
       "28     10.0  \n",
       "29      0.0  \n",
       "...     ...  \n",
       "9373    1.0  \n",
       "9378    2.0  \n",
       "9380    4.0  \n",
       "9379    1.0  \n",
       "9374    1.0  \n",
       "9377    1.0  \n",
       "9376    1.0  \n",
       "9375    3.0  \n",
       "9386    4.0  \n",
       "9385    2.0  \n",
       "9384    1.0  \n",
       "9383    1.0  \n",
       "9381    2.0  \n",
       "9382    1.0  \n",
       "9387    1.0  \n",
       "9388    1.0  \n",
       "9389    1.0  \n",
       "9390    3.0  \n",
       "9391    1.0  \n",
       "9392    1.0  \n",
       "9398    1.0  \n",
       "9401    1.0  \n",
       "9400    2.0  \n",
       "9399    1.0  \n",
       "9393    2.0  \n",
       "9397    3.0  \n",
       "9396    3.0  \n",
       "9395    1.0  \n",
       "9394    1.0  \n",
       "9402    1.0  \n",
       "\n",
       "[9403 rows x 3 columns]"
      ]
     },
     "execution_count": 10,
     "metadata": {},
     "output_type": "execute_result"
    }
   ],
   "source": [
    "st.sort_values(by='datetime', ascending=False)"
   ]
  },
  {
   "cell_type": "code",
   "execution_count": 11,
   "metadata": {},
   "outputs": [],
   "source": [
    "st.set_index('datetime', inplace = True)"
   ]
  },
  {
   "cell_type": "code",
   "execution_count": 12,
   "metadata": {
    "scrolled": false
   },
   "outputs": [
    {
     "data": {
      "text/html": [
       "<div>\n",
       "<style scoped>\n",
       "    .dataframe tbody tr th:only-of-type {\n",
       "        vertical-align: middle;\n",
       "    }\n",
       "\n",
       "    .dataframe tbody tr th {\n",
       "        vertical-align: top;\n",
       "    }\n",
       "\n",
       "    .dataframe thead th {\n",
       "        text-align: right;\n",
       "    }\n",
       "</style>\n",
       "<table border=\"1\" class=\"dataframe\">\n",
       "  <thead>\n",
       "    <tr style=\"text-align: right;\">\n",
       "      <th></th>\n",
       "      <th>message</th>\n",
       "      <th>likes</th>\n",
       "    </tr>\n",
       "    <tr>\n",
       "      <th>datetime</th>\n",
       "      <th></th>\n",
       "      <th></th>\n",
       "    </tr>\n",
       "  </thead>\n",
       "  <tbody>\n",
       "    <tr>\n",
       "      <th>2019-09-29 16:09:00</th>\n",
       "      <td>$AMD  Then you remember back a bit, with Obama...</td>\n",
       "      <td>1.0</td>\n",
       "    </tr>\n",
       "    <tr>\n",
       "      <th>2019-09-29 15:40:00</th>\n",
       "      <td>$SPY As you know @Bigmoney1977 is afraid of \"r...</td>\n",
       "      <td>1.0</td>\n",
       "    </tr>\n",
       "    <tr>\n",
       "      <th>2019-09-29 15:29:00</th>\n",
       "      <td>$UVXY $TVIX $VXX $AAPL $INTC dont miss our lat...</td>\n",
       "      <td>1.0</td>\n",
       "    </tr>\n",
       "    <tr>\n",
       "      <th>2019-09-29 15:23:00</th>\n",
       "      <td>$SPY The Bears were hoping for that \"news\"to b...</td>\n",
       "      <td>5.0</td>\n",
       "    </tr>\n",
       "    <tr>\n",
       "      <th>2019-09-29 15:17:00</th>\n",
       "      <td>$AAPL I lived through Watergate and followed i...</td>\n",
       "      <td>1.0</td>\n",
       "    </tr>\n",
       "  </tbody>\n",
       "</table>\n",
       "</div>"
      ],
      "text/plain": [
       "                                                               message  likes\n",
       "datetime                                                                     \n",
       "2019-09-29 16:09:00  $AMD  Then you remember back a bit, with Obama...    1.0\n",
       "2019-09-29 15:40:00  $SPY As you know @Bigmoney1977 is afraid of \"r...    1.0\n",
       "2019-09-29 15:29:00  $UVXY $TVIX $VXX $AAPL $INTC dont miss our lat...    1.0\n",
       "2019-09-29 15:23:00  $SPY The Bears were hoping for that \"news\"to b...    5.0\n",
       "2019-09-29 15:17:00  $AAPL I lived through Watergate and followed i...    1.0"
      ]
     },
     "execution_count": 12,
     "metadata": {},
     "output_type": "execute_result"
    }
   ],
   "source": [
    "st.head()"
   ]
  },
  {
   "cell_type": "markdown",
   "metadata": {},
   "source": [
    "Cleaning the text message"
   ]
  },
  {
   "cell_type": "code",
   "execution_count": 13,
   "metadata": {},
   "outputs": [],
   "source": [
    "st['message'] = st['message'].apply(lambda x: html.unescape(x))\n",
    "st['message'] = st['message'].apply(lambda x: re.sub(r'(www\\.|https?://).*?(\\s|$)|@.*?(\\s|$)|\\$.*?(\\s|$)|\\d|\\%|\\\\|/|-|_', ' ', x))\n",
    "st['message'] = st['message'].apply(lambda x: re.sub(r'\\s+', ' ', x))"
   ]
  },
  {
   "cell_type": "markdown",
   "metadata": {},
   "source": [
    "Initialize Sentiment Analyzer"
   ]
  },
  {
   "cell_type": "code",
   "execution_count": 14,
   "metadata": {},
   "outputs": [],
   "source": [
    "import nltk\n",
    "from nltk.sentiment.vader import SentimentIntensityAnalyzer\n",
    "\n",
    "import csv"
   ]
  },
  {
   "cell_type": "code",
   "execution_count": 15,
   "metadata": {
    "scrolled": false
   },
   "outputs": [
    {
     "name": "stderr",
     "output_type": "stream",
     "text": [
      "[nltk_data] Downloading package vader_lexicon to\n",
      "[nltk_data]     C:\\Users\\yan_m\\AppData\\Roaming\\nltk_data...\n",
      "[nltk_data]   Package vader_lexicon is already up-to-date!\n"
     ]
    }
   ],
   "source": [
    "nltk.download('vader_lexicon')\n",
    "sia = SentimentIntensityAnalyzer()"
   ]
  },
  {
   "cell_type": "code",
   "execution_count": 16,
   "metadata": {},
   "outputs": [],
   "source": [
    "# stock market lexicon\n",
    "stock_lex = pd.read_csv('C://Users//yan_m//OneDrive//Desktop//Jupyter//IND5003//Project//data//stock_lex.csv')"
   ]
  },
  {
   "cell_type": "code",
   "execution_count": 17,
   "metadata": {},
   "outputs": [],
   "source": [
    "stock_lex['sentiment'] = (stock_lex['Aff_Score'] + stock_lex['Neg_Score'])/2\n",
    "stock_lex = dict(zip(stock_lex.Item, stock_lex.sentiment))\n",
    "stock_lex = {k:v for k,v in stock_lex.items() if len(k.split(' '))==1}\n",
    "stock_lex_scaled = {}\n",
    "for k, v in stock_lex.items():\n",
    "    if v > 0:\n",
    "        stock_lex_scaled[k] = v / max(stock_lex.values()) * 4\n",
    "    else:\n",
    "        stock_lex_scaled[k] = v / min(stock_lex.values()) * -4"
   ]
  },
  {
   "cell_type": "code",
   "execution_count": 18,
   "metadata": {},
   "outputs": [],
   "source": [
    "# Loughran and McDonald\n",
    "positive = []\n",
    "with open('C://Users//yan_m//OneDrive//Desktop//Jupyter//IND5003//Project//data//lm_positive.csv', 'r') as f:\n",
    "    reader = csv.reader(f)\n",
    "    for row in reader:\n",
    "        positive.append(row[0].strip())\n",
    "    \n",
    "negative = []\n",
    "with open('C://Users//yan_m//OneDrive//Desktop//Jupyter//IND5003//Project//data//lm_negative.csv', 'r') as f:\n",
    "    reader = csv.reader(f)\n",
    "    for row in reader:\n",
    "        entry = row[0].strip().split(\" \")\n",
    "        if len(entry) > 1:\n",
    "            negative.extend(entry)\n",
    "        else:\n",
    "            negative.append(entry[0])"
   ]
  },
  {
   "cell_type": "code",
   "execution_count": 19,
   "metadata": {},
   "outputs": [],
   "source": [
    "final_lex = {}\n",
    "# final_lex.update({word:2.0 for word in positive})\n",
    "# final_lex.update({word:-2.0 for word in negative})\n",
    "final_lex.update(stock_lex_scaled)\n",
    "final_lex.update(sia.lexicon)\n",
    "sia.lexicon = final_lex"
   ]
  },
  {
   "cell_type": "markdown",
   "metadata": {},
   "source": [
    "Conducting the SA"
   ]
  },
  {
   "cell_type": "code",
   "execution_count": 20,
   "metadata": {},
   "outputs": [
    {
     "name": "stdout",
     "output_type": "stream",
     "text": [
      "The text:\" I lived through Watergate and followed it closely. Apparently the Trumps are ignorant of history. When you are ignorant of history, knocking down your claims is like shooting fish in a barrel.\" has a score of -0.4649.\n"
     ]
    }
   ],
   "source": [
    "# demonstrating how its used\n",
    "text = st.message[4]\n",
    "score = sia.polarity_scores(text)['compound']\n",
    "\n",
    "print('The text:\\\"{0}\\\" has a score of {1}.'.format(text, score))"
   ]
  },
  {
   "cell_type": "code",
   "execution_count": 21,
   "metadata": {},
   "outputs": [
    {
     "data": {
      "text/plain": [
       "{'neg': 0.474, 'neu': 0.269, 'pos': 0.257, 'compound': -0.4649}"
      ]
     },
     "execution_count": 21,
     "metadata": {},
     "output_type": "execute_result"
    }
   ],
   "source": [
    "score = sia.polarity_scores(text)\n",
    "score"
   ]
  },
  {
   "cell_type": "code",
   "execution_count": 22,
   "metadata": {},
   "outputs": [],
   "source": [
    "st['polarity_score'] = st['message'].apply(lambda x: sia.polarity_scores(x)['compound'])"
   ]
  },
  {
   "cell_type": "code",
   "execution_count": 23,
   "metadata": {},
   "outputs": [],
   "source": [
    "st.polarity_score = pd.to_numeric(st.polarity_score)"
   ]
  },
  {
   "cell_type": "code",
   "execution_count": 24,
   "metadata": {
    "scrolled": true
   },
   "outputs": [
    {
     "data": {
      "text/html": [
       "<div>\n",
       "<style scoped>\n",
       "    .dataframe tbody tr th:only-of-type {\n",
       "        vertical-align: middle;\n",
       "    }\n",
       "\n",
       "    .dataframe tbody tr th {\n",
       "        vertical-align: top;\n",
       "    }\n",
       "\n",
       "    .dataframe thead th {\n",
       "        text-align: right;\n",
       "    }\n",
       "</style>\n",
       "<table border=\"1\" class=\"dataframe\">\n",
       "  <thead>\n",
       "    <tr style=\"text-align: right;\">\n",
       "      <th></th>\n",
       "      <th>message</th>\n",
       "      <th>likes</th>\n",
       "      <th>polarity_score</th>\n",
       "    </tr>\n",
       "    <tr>\n",
       "      <th>datetime</th>\n",
       "      <th></th>\n",
       "      <th></th>\n",
       "      <th></th>\n",
       "    </tr>\n",
       "  </thead>\n",
       "  <tbody>\n",
       "    <tr>\n",
       "      <th>2019-09-18 23:01:00</th>\n",
       "      <td></td>\n",
       "      <td>4.0</td>\n",
       "      <td>0.0</td>\n",
       "    </tr>\n",
       "    <tr>\n",
       "      <th>2019-09-11 02:59:00</th>\n",
       "      <td></td>\n",
       "      <td>3.0</td>\n",
       "      <td>0.0</td>\n",
       "    </tr>\n",
       "    <tr>\n",
       "      <th>2019-09-13 01:17:00</th>\n",
       "      <td></td>\n",
       "      <td>9.0</td>\n",
       "      <td>0.0</td>\n",
       "    </tr>\n",
       "  </tbody>\n",
       "</table>\n",
       "</div>"
      ],
      "text/plain": [
       "                    message  likes  polarity_score\n",
       "datetime                                          \n",
       "2019-09-18 23:01:00            4.0             0.0\n",
       "2019-09-11 02:59:00            3.0             0.0\n",
       "2019-09-13 01:17:00            9.0             0.0"
      ]
     },
     "execution_count": 24,
     "metadata": {},
     "output_type": "execute_result"
    }
   ],
   "source": [
    "st[st.polarity_score == 0].sample(3)\n",
    "# notice that all the text with 0 score are gibberish"
   ]
  },
  {
   "cell_type": "code",
   "execution_count": 25,
   "metadata": {
    "scrolled": true
   },
   "outputs": [
    {
     "data": {
      "text/html": [
       "<div>\n",
       "<style scoped>\n",
       "    .dataframe tbody tr th:only-of-type {\n",
       "        vertical-align: middle;\n",
       "    }\n",
       "\n",
       "    .dataframe tbody tr th {\n",
       "        vertical-align: top;\n",
       "    }\n",
       "\n",
       "    .dataframe thead th {\n",
       "        text-align: right;\n",
       "    }\n",
       "</style>\n",
       "<table border=\"1\" class=\"dataframe\">\n",
       "  <thead>\n",
       "    <tr style=\"text-align: right;\">\n",
       "      <th></th>\n",
       "      <th>message</th>\n",
       "      <th>likes</th>\n",
       "      <th>polarity_score</th>\n",
       "    </tr>\n",
       "    <tr>\n",
       "      <th>datetime</th>\n",
       "      <th></th>\n",
       "      <th></th>\n",
       "      <th></th>\n",
       "    </tr>\n",
       "  </thead>\n",
       "  <tbody>\n",
       "  </tbody>\n",
       "</table>\n",
       "</div>"
      ],
      "text/plain": [
       "Empty DataFrame\n",
       "Columns: [message, likes, polarity_score]\n",
       "Index: []"
      ]
     },
     "execution_count": 25,
     "metadata": {},
     "output_type": "execute_result"
    }
   ],
   "source": [
    "st.drop(st[st.polarity_score == 0].index, inplace = True)\n",
    "st[st.polarity_score == 0]"
   ]
  },
  {
   "cell_type": "code",
   "execution_count": 26,
   "metadata": {
    "scrolled": false
   },
   "outputs": [
    {
     "data": {
      "text/plain": [
       "count    8381.000000\n",
       "mean        0.275738\n",
       "std         0.435324\n",
       "min        -0.973200\n",
       "25%        -0.001600\n",
       "50%         0.302200\n",
       "75%         0.633700\n",
       "max         0.995000\n",
       "Name: polarity_score, dtype: float64"
      ]
     },
     "execution_count": 26,
     "metadata": {},
     "output_type": "execute_result"
    }
   ],
   "source": [
    "st.polarity_score.describe()"
   ]
  },
  {
   "cell_type": "code",
   "execution_count": 27,
   "metadata": {},
   "outputs": [
    {
     "name": "stdout",
     "output_type": "stream",
     "text": [
      "8381 number of comments in Stocktwits collected from (2019-09-29 16:09:00) to (2019-09-10 21:06:00) will be processed.\n"
     ]
    }
   ],
   "source": [
    "print('{0} number of comments in Stocktwits collected from ({1}) to ({2}) will be processed.'.format(len(st), st.index[0], st.index[-1]))"
   ]
  },
  {
   "cell_type": "markdown",
   "metadata": {},
   "source": [
    "Aggregate them into daily"
   ]
  },
  {
   "cell_type": "markdown",
   "metadata": {},
   "source": [
    "1) just average of them all"
   ]
  },
  {
   "cell_type": "code",
   "execution_count": 29,
   "metadata": {
    "scrolled": false
   },
   "outputs": [],
   "source": [
    "sa1 = st.groupby(st.index.date).polarity_score.mean()\n",
    "# Or however we want to aggregate the data, using MEAN for now"
   ]
  },
  {
   "cell_type": "markdown",
   "metadata": {},
   "source": [
    "2) Linear weightage for score based on number of like from the comment "
   ]
  },
  {
   "cell_type": "code",
   "execution_count": 33,
   "metadata": {},
   "outputs": [],
   "source": [
    "st['likes1'] = st.likes + 1"
   ]
  },
  {
   "cell_type": "code",
   "execution_count": 34,
   "metadata": {
    "scrolled": true
   },
   "outputs": [
    {
     "data": {
      "text/html": [
       "<div>\n",
       "<style scoped>\n",
       "    .dataframe tbody tr th:only-of-type {\n",
       "        vertical-align: middle;\n",
       "    }\n",
       "\n",
       "    .dataframe tbody tr th {\n",
       "        vertical-align: top;\n",
       "    }\n",
       "\n",
       "    .dataframe thead th {\n",
       "        text-align: right;\n",
       "    }\n",
       "</style>\n",
       "<table border=\"1\" class=\"dataframe\">\n",
       "  <thead>\n",
       "    <tr style=\"text-align: right;\">\n",
       "      <th></th>\n",
       "      <th>message</th>\n",
       "      <th>likes</th>\n",
       "      <th>polarity_score</th>\n",
       "      <th>likes1</th>\n",
       "      <th>ps2</th>\n",
       "    </tr>\n",
       "    <tr>\n",
       "      <th>datetime</th>\n",
       "      <th></th>\n",
       "      <th></th>\n",
       "      <th></th>\n",
       "      <th></th>\n",
       "      <th></th>\n",
       "    </tr>\n",
       "  </thead>\n",
       "  <tbody>\n",
       "    <tr>\n",
       "      <th>2019-09-29 16:09:00</th>\n",
       "      <td>Then you remember back a bit, with Obama on a...</td>\n",
       "      <td>1.0</td>\n",
       "      <td>0.8697</td>\n",
       "      <td>2.0</td>\n",
       "      <td>1.7394</td>\n",
       "    </tr>\n",
       "    <tr>\n",
       "      <th>2019-09-29 15:40:00</th>\n",
       "      <td>As you know is afraid of \"risk\" &amp; we all know...</td>\n",
       "      <td>1.0</td>\n",
       "      <td>0.9108</td>\n",
       "      <td>2.0</td>\n",
       "      <td>1.8216</td>\n",
       "    </tr>\n",
       "    <tr>\n",
       "      <th>2019-09-29 15:29:00</th>\n",
       "      <td>dont miss our latest State of the Markets vid...</td>\n",
       "      <td>1.0</td>\n",
       "      <td>-0.1125</td>\n",
       "      <td>2.0</td>\n",
       "      <td>-0.2250</td>\n",
       "    </tr>\n",
       "    <tr>\n",
       "      <th>2019-09-29 15:23:00</th>\n",
       "      <td>The Bears were hoping for that \"news\"to be re...</td>\n",
       "      <td>5.0</td>\n",
       "      <td>-0.0037</td>\n",
       "      <td>6.0</td>\n",
       "      <td>-0.0222</td>\n",
       "    </tr>\n",
       "    <tr>\n",
       "      <th>2019-09-29 15:17:00</th>\n",
       "      <td>I lived through Watergate and followed it clo...</td>\n",
       "      <td>1.0</td>\n",
       "      <td>-0.4649</td>\n",
       "      <td>2.0</td>\n",
       "      <td>-0.9298</td>\n",
       "    </tr>\n",
       "  </tbody>\n",
       "</table>\n",
       "</div>"
      ],
      "text/plain": [
       "                                                               message  likes  \\\n",
       "datetime                                                                        \n",
       "2019-09-29 16:09:00   Then you remember back a bit, with Obama on a...    1.0   \n",
       "2019-09-29 15:40:00   As you know is afraid of \"risk\" & we all know...    1.0   \n",
       "2019-09-29 15:29:00   dont miss our latest State of the Markets vid...    1.0   \n",
       "2019-09-29 15:23:00   The Bears were hoping for that \"news\"to be re...    5.0   \n",
       "2019-09-29 15:17:00   I lived through Watergate and followed it clo...    1.0   \n",
       "\n",
       "                     polarity_score  likes1     ps2  \n",
       "datetime                                             \n",
       "2019-09-29 16:09:00          0.8697     2.0  1.7394  \n",
       "2019-09-29 15:40:00          0.9108     2.0  1.8216  \n",
       "2019-09-29 15:29:00         -0.1125     2.0 -0.2250  \n",
       "2019-09-29 15:23:00         -0.0037     6.0 -0.0222  \n",
       "2019-09-29 15:17:00         -0.4649     2.0 -0.9298  "
      ]
     },
     "execution_count": 34,
     "metadata": {},
     "output_type": "execute_result"
    }
   ],
   "source": [
    "st['ps2'] = st.polarity_score * st.likes1\n",
    "st.head()"
   ]
  },
  {
   "cell_type": "code",
   "execution_count": 35,
   "metadata": {},
   "outputs": [],
   "source": [
    "sa2 = st.groupby(st.index.date).ps2.sum()  /  st.groupby(st.index.date).likes1.sum()"
   ]
  },
  {
   "cell_type": "markdown",
   "metadata": {},
   "source": [
    "3) Log weightage for score based on number of like from the comment"
   ]
  },
  {
   "cell_type": "code",
   "execution_count": 36,
   "metadata": {},
   "outputs": [],
   "source": [
    "st['likes2'] = st.likes1.apply(math.log10)"
   ]
  },
  {
   "cell_type": "code",
   "execution_count": 37,
   "metadata": {},
   "outputs": [
    {
     "data": {
      "text/html": [
       "<div>\n",
       "<style scoped>\n",
       "    .dataframe tbody tr th:only-of-type {\n",
       "        vertical-align: middle;\n",
       "    }\n",
       "\n",
       "    .dataframe tbody tr th {\n",
       "        vertical-align: top;\n",
       "    }\n",
       "\n",
       "    .dataframe thead th {\n",
       "        text-align: right;\n",
       "    }\n",
       "</style>\n",
       "<table border=\"1\" class=\"dataframe\">\n",
       "  <thead>\n",
       "    <tr style=\"text-align: right;\">\n",
       "      <th></th>\n",
       "      <th>message</th>\n",
       "      <th>likes</th>\n",
       "      <th>polarity_score</th>\n",
       "      <th>likes1</th>\n",
       "      <th>ps2</th>\n",
       "      <th>likes2</th>\n",
       "    </tr>\n",
       "    <tr>\n",
       "      <th>datetime</th>\n",
       "      <th></th>\n",
       "      <th></th>\n",
       "      <th></th>\n",
       "      <th></th>\n",
       "      <th></th>\n",
       "      <th></th>\n",
       "    </tr>\n",
       "  </thead>\n",
       "  <tbody>\n",
       "    <tr>\n",
       "      <th>2019-09-29 16:09:00</th>\n",
       "      <td>Then you remember back a bit, with Obama on a...</td>\n",
       "      <td>1.0</td>\n",
       "      <td>0.8697</td>\n",
       "      <td>2.0</td>\n",
       "      <td>0.261806</td>\n",
       "      <td>0.301030</td>\n",
       "    </tr>\n",
       "    <tr>\n",
       "      <th>2019-09-29 15:40:00</th>\n",
       "      <td>As you know is afraid of \"risk\" &amp; we all know...</td>\n",
       "      <td>1.0</td>\n",
       "      <td>0.9108</td>\n",
       "      <td>2.0</td>\n",
       "      <td>0.274178</td>\n",
       "      <td>0.301030</td>\n",
       "    </tr>\n",
       "    <tr>\n",
       "      <th>2019-09-29 15:29:00</th>\n",
       "      <td>dont miss our latest State of the Markets vid...</td>\n",
       "      <td>1.0</td>\n",
       "      <td>-0.1125</td>\n",
       "      <td>2.0</td>\n",
       "      <td>-0.033866</td>\n",
       "      <td>0.301030</td>\n",
       "    </tr>\n",
       "    <tr>\n",
       "      <th>2019-09-29 15:23:00</th>\n",
       "      <td>The Bears were hoping for that \"news\"to be re...</td>\n",
       "      <td>5.0</td>\n",
       "      <td>-0.0037</td>\n",
       "      <td>6.0</td>\n",
       "      <td>-0.002879</td>\n",
       "      <td>0.778151</td>\n",
       "    </tr>\n",
       "    <tr>\n",
       "      <th>2019-09-29 15:17:00</th>\n",
       "      <td>I lived through Watergate and followed it clo...</td>\n",
       "      <td>1.0</td>\n",
       "      <td>-0.4649</td>\n",
       "      <td>2.0</td>\n",
       "      <td>-0.139949</td>\n",
       "      <td>0.301030</td>\n",
       "    </tr>\n",
       "  </tbody>\n",
       "</table>\n",
       "</div>"
      ],
      "text/plain": [
       "                                                               message  likes  \\\n",
       "datetime                                                                        \n",
       "2019-09-29 16:09:00   Then you remember back a bit, with Obama on a...    1.0   \n",
       "2019-09-29 15:40:00   As you know is afraid of \"risk\" & we all know...    1.0   \n",
       "2019-09-29 15:29:00   dont miss our latest State of the Markets vid...    1.0   \n",
       "2019-09-29 15:23:00   The Bears were hoping for that \"news\"to be re...    5.0   \n",
       "2019-09-29 15:17:00   I lived through Watergate and followed it clo...    1.0   \n",
       "\n",
       "                     polarity_score  likes1       ps2    likes2  \n",
       "datetime                                                         \n",
       "2019-09-29 16:09:00          0.8697     2.0  0.261806  0.301030  \n",
       "2019-09-29 15:40:00          0.9108     2.0  0.274178  0.301030  \n",
       "2019-09-29 15:29:00         -0.1125     2.0 -0.033866  0.301030  \n",
       "2019-09-29 15:23:00         -0.0037     6.0 -0.002879  0.778151  \n",
       "2019-09-29 15:17:00         -0.4649     2.0 -0.139949  0.301030  "
      ]
     },
     "execution_count": 37,
     "metadata": {},
     "output_type": "execute_result"
    }
   ],
   "source": [
    "st['ps2'] = st.polarity_score * st.likes2\n",
    "st.head()"
   ]
  },
  {
   "cell_type": "code",
   "execution_count": 38,
   "metadata": {},
   "outputs": [],
   "source": [
    "sa3 = st.groupby(st.index.date).ps2.sum()  /  st.groupby(st.index.date).likes2.sum()"
   ]
  },
  {
   "cell_type": "code",
   "execution_count": 40,
   "metadata": {},
   "outputs": [],
   "source": [
    "SA = pd.DataFrame({'Avg':sa1,'Linear':sa2,'Log':sa3})"
   ]
  },
  {
   "cell_type": "code",
   "execution_count": 41,
   "metadata": {
    "scrolled": true
   },
   "outputs": [
    {
     "data": {
      "text/html": [
       "<div>\n",
       "<style scoped>\n",
       "    .dataframe tbody tr th:only-of-type {\n",
       "        vertical-align: middle;\n",
       "    }\n",
       "\n",
       "    .dataframe tbody tr th {\n",
       "        vertical-align: top;\n",
       "    }\n",
       "\n",
       "    .dataframe thead th {\n",
       "        text-align: right;\n",
       "    }\n",
       "</style>\n",
       "<table border=\"1\" class=\"dataframe\">\n",
       "  <thead>\n",
       "    <tr style=\"text-align: right;\">\n",
       "      <th></th>\n",
       "      <th>Avg</th>\n",
       "      <th>Linear</th>\n",
       "      <th>Log</th>\n",
       "    </tr>\n",
       "  </thead>\n",
       "  <tbody>\n",
       "    <tr>\n",
       "      <th>2019-09-10</th>\n",
       "      <td>0.311241</td>\n",
       "      <td>0.329401</td>\n",
       "      <td>0.323965</td>\n",
       "    </tr>\n",
       "    <tr>\n",
       "      <th>2019-09-11</th>\n",
       "      <td>0.347112</td>\n",
       "      <td>0.360686</td>\n",
       "      <td>0.356118</td>\n",
       "    </tr>\n",
       "    <tr>\n",
       "      <th>2019-09-12</th>\n",
       "      <td>0.283504</td>\n",
       "      <td>0.294798</td>\n",
       "      <td>0.291032</td>\n",
       "    </tr>\n",
       "    <tr>\n",
       "      <th>2019-09-13</th>\n",
       "      <td>0.240032</td>\n",
       "      <td>0.234743</td>\n",
       "      <td>0.242530</td>\n",
       "    </tr>\n",
       "    <tr>\n",
       "      <th>2019-09-14</th>\n",
       "      <td>0.311894</td>\n",
       "      <td>0.300874</td>\n",
       "      <td>0.293716</td>\n",
       "    </tr>\n",
       "  </tbody>\n",
       "</table>\n",
       "</div>"
      ],
      "text/plain": [
       "                 Avg    Linear       Log\n",
       "2019-09-10  0.311241  0.329401  0.323965\n",
       "2019-09-11  0.347112  0.360686  0.356118\n",
       "2019-09-12  0.283504  0.294798  0.291032\n",
       "2019-09-13  0.240032  0.234743  0.242530\n",
       "2019-09-14  0.311894  0.300874  0.293716"
      ]
     },
     "execution_count": 41,
     "metadata": {},
     "output_type": "execute_result"
    }
   ],
   "source": [
    "SA.head()"
   ]
  },
  {
   "cell_type": "code",
   "execution_count": 42,
   "metadata": {},
   "outputs": [],
   "source": [
    "SA.to_csv('C://Users//yan_m//OneDrive//Desktop//Jupyter//IND5003//Project//data//st_sa_01Oct19.csv', index=True)"
   ]
  },
  {
   "cell_type": "code",
   "execution_count": 43,
   "metadata": {
    "scrolled": false
   },
   "outputs": [
    {
     "data": {
      "text/plain": [
       "<matplotlib.axes._subplots.AxesSubplot at 0x2774115ff98>"
      ]
     },
     "execution_count": 43,
     "metadata": {},
     "output_type": "execute_result"
    },
    {
     "data": {
      "image/png": "[encoded data removed]",
      "text/plain": [
       "<Figure size 432x288 with 1 Axes>"
      ]
     },
     "metadata": {
      "needs_background": "light"
     },
     "output_type": "display_data"
    }
   ],
   "source": [
    "SA.plot()"
   ]
  },
  {
   "cell_type": "code",
   "execution_count": 44,
   "metadata": {},
   "outputs": [
    {
     "name": "stdout",
     "output_type": "stream",
     "text": [
      "[*********************100%***********************]  1 of 1 downloaded\n"
     ]
    }
   ],
   "source": [
    "import yfinance as yf\n",
    "apple = yf.download('AAPL','2019-09-12', date.today())"
   ]
  },
  {
   "cell_type": "code",
   "execution_count": 49,
   "metadata": {},
   "outputs": [
    {
     "data": {
      "text/plain": [
       "Text(0.5, 1.0, 'Correlation (2019-09-10 to 2019-09-29)')"
      ]
     },
     "execution_count": 49,
     "metadata": {},
     "output_type": "execute_result"
    },
    {
     "data": {
      "image/png": "[encoded data removed]",
      "text/plain": [
       "<Figure size 432x288 with 2 Axes>"
      ]
     },
     "metadata": {
      "needs_background": "light"
     },
     "output_type": "display_data"
    }
   ],
   "source": [
    "fig = plt.figure()\n",
    "ax1 = fig.add_subplot(111)\n",
    "\n",
    "ax1.plot(SA.index, SA.Avg)\n",
    "ax1.set_ylabel('AVG(Sentiment Analysis)', color='b')\n",
    "for tl in ax1.get_yticklabels():\n",
    "    tl.set_color('b')\n",
    "    \n",
    "ax2 = ax1.twinx()\n",
    "\n",
    "ax2.plot(apple.index, apple.Close, 'r--')\n",
    "ax2.set_ylabel('Apple', color='r')\n",
    "for tl in ax2.get_yticklabels():\n",
    "    tl.set_color('r')\n",
    "    \n",
    "plt.xlim(SA.index[0], SA.index[-1])\n",
    "plt.title('Correlation ({0} to {1})'.format(SA.index[0], SA.index[-1]))"
   ]
  },
  {
   "cell_type": "code",
   "execution_count": 50,
   "metadata": {
    "scrolled": true
   },
   "outputs": [
    {
     "data": {
      "text/plain": [
       "Text(0.5, 1.0, 'Correlation (2019-09-10 to 2019-09-29)')"
      ]
     },
     "execution_count": 50,
     "metadata": {},
     "output_type": "execute_result"
    },
    {
     "data": {
      "image/png": "[encoded data removed]",
      "text/plain": [
       "<Figure size 432x288 with 2 Axes>"
      ]
     },
     "metadata": {
      "needs_background": "light"
     },
     "output_type": "display_data"
    }
   ],
   "source": [
    "fig = plt.figure()\n",
    "ax1 = fig.add_subplot(111)\n",
    "\n",
    "ax1.plot(SA.index, SA.Linear)\n",
    "ax1.set_ylabel('Linear(Sentiment Analysis)', color='b')\n",
    "for tl in ax1.get_yticklabels():\n",
    "    tl.set_color('b')\n",
    "    \n",
    "ax2 = ax1.twinx()\n",
    "\n",
    "ax2.plot(apple.index, apple.Close, 'r--')\n",
    "ax2.set_ylabel('Apple', color='r')\n",
    "for tl in ax2.get_yticklabels():\n",
    "    tl.set_color('r')\n",
    "    \n",
    "plt.xlim(SA.index[0], SA.index[-1])\n",
    "plt.title('Correlation ({0} to {1})'.format(SA.index[0], SA.index[-1]))"
   ]
  },
  {
   "cell_type": "code",
   "execution_count": null,
   "metadata": {},
   "outputs": [],
   "source": []
  },
  {
   "cell_type": "code",
   "execution_count": null,
   "metadata": {},
   "outputs": [],
   "source": []
  }
 ],
 "metadata": {
  "kernelspec": {
   "display_name": "Python 3",
   "language": "python",
   "name": "python3"
  },
  "language_info": {
   "codemirror_mode": {
    "name": "ipython",
    "version": 3
   },
   "file_extension": ".py",
   "mimetype": "text/x-python",
   "name": "python",
   "nbconvert_exporter": "python",
   "pygments_lexer": "ipython3",
   "version": "3.7.3"
  }
 },
 "nbformat": 4,
 "nbformat_minor": 2
}
