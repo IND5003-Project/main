{
 "cells": [
  {
   "cell_type": "code",
   "execution_count": 13,
   "metadata": {},
   "outputs": [],
   "source": [
    "import numpy as np\n",
    "import pandas as pd\n",
    "import re\n",
    "import html\n",
    "import os.path"
   ]
  },
  {
   "cell_type": "code",
   "execution_count": 7,
   "metadata": {},
   "outputs": [],
   "source": [
    "file_location = './Data/Stocktwit Raw.csv'"
   ]
  },
  {
   "cell_type": "code",
   "execution_count": 8,
   "metadata": {},
   "outputs": [],
   "source": [
    "st_raw = pd.read_csv(file_location, header=0, encoding = 'unicode_escape')"
   ]
  },
  {
   "cell_type": "code",
   "execution_count": 9,
   "metadata": {},
   "outputs": [
    {
     "data": {
      "text/html": [
       "<div>\n",
       "<style scoped>\n",
       "    .dataframe tbody tr th:only-of-type {\n",
       "        vertical-align: middle;\n",
       "    }\n",
       "\n",
       "    .dataframe tbody tr th {\n",
       "        vertical-align: top;\n",
       "    }\n",
       "\n",
       "    .dataframe thead th {\n",
       "        text-align: right;\n",
       "    }\n",
       "</style>\n",
       "<table border=\"1\" class=\"dataframe\">\n",
       "  <thead>\n",
       "    <tr style=\"text-align: right;\">\n",
       "      <th></th>\n",
       "      <th>Title</th>\n",
       "      <th>Title_link</th>\n",
       "      <th>st_2jbUWIi</th>\n",
       "      <th>st_3SL2gug</th>\n",
       "      <th>st_1NNeqUz</th>\n",
       "      <th>st_28bQfzV</th>\n",
       "      <th>st_1NNeqUz1</th>\n",
       "      <th>st_3xRimaf</th>\n",
       "      <th>lib_XwnOHoV</th>\n",
       "      <th>likes</th>\n",
       "    </tr>\n",
       "  </thead>\n",
       "  <tbody>\n",
       "    <tr>\n",
       "      <th>0</th>\n",
       "      <td>jekoz</td>\n",
       "      <td>https://stocktwits.com/jekoz</td>\n",
       "      <td>https://s3.amazonaws.com/st-avatars/images/def...</td>\n",
       "      <td>$DIS nothing can get this over 140. Maybe $AAP...</td>\n",
       "      <td>$DIS</td>\n",
       "      <td>Sep 17th, 8:40 am</td>\n",
       "      <td>$AAPL</td>\n",
       "      <td>NaN</td>\n",
       "      <td>NaN</td>\n",
       "      <td>NaN</td>\n",
       "    </tr>\n",
       "    <tr>\n",
       "      <th>1</th>\n",
       "      <td>sleekOptions</td>\n",
       "      <td>https://stocktwits.com/sleekOptions</td>\n",
       "      <td>https://avatars.stocktwits.com/production/1442...</td>\n",
       "      <td>$AAPL [Aug-30 210 Calls] up +30.43 %  Alerted ...</td>\n",
       "      <td>$AAPL</td>\n",
       "      <td>Sep 17th, 8:28 am</td>\n",
       "      <td>NaN</td>\n",
       "      <td>NaN</td>\n",
       "      <td>NaN</td>\n",
       "      <td>NaN</td>\n",
       "    </tr>\n",
       "    <tr>\n",
       "      <th>2</th>\n",
       "      <td>sleekOptions</td>\n",
       "      <td>https://stocktwits.com/sleekOptions</td>\n",
       "      <td>https://avatars.stocktwits.com/production/1442...</td>\n",
       "      <td>Peak profit for the last 6 expired option aler...</td>\n",
       "      <td>$AAPL</td>\n",
       "      <td>Sep 17th, 8:26 am</td>\n",
       "      <td>NaN</td>\n",
       "      <td>NaN</td>\n",
       "      <td>NaN</td>\n",
       "      <td>NaN</td>\n",
       "    </tr>\n",
       "    <tr>\n",
       "      <th>3</th>\n",
       "      <td>sleekOptions</td>\n",
       "      <td>https://stocktwits.com/sleekOptions</td>\n",
       "      <td>https://avatars.stocktwits.com/production/1442...</td>\n",
       "      <td>$AAPL Last six months, 41 option alerts peaked...</td>\n",
       "      <td>$AAPL</td>\n",
       "      <td>Sep 17th, 8:25 am</td>\n",
       "      <td>NaN</td>\n",
       "      <td>NaN</td>\n",
       "      <td>NaN</td>\n",
       "      <td>NaN</td>\n",
       "    </tr>\n",
       "    <tr>\n",
       "      <th>4</th>\n",
       "      <td>klrkawa</td>\n",
       "      <td>https://stocktwits.com/klrkawa</td>\n",
       "      <td>https://avatars.stocktwits.com/production/1520...</td>\n",
       "      <td>$AAPL $ROKU $DE $HD $TGT  down. Not looking go...</td>\n",
       "      <td>$AAPL</td>\n",
       "      <td>Sep 17th, 8:11 am</td>\n",
       "      <td>$ROKU</td>\n",
       "      <td>1.0</td>\n",
       "      <td>Bearish</td>\n",
       "      <td>1.0</td>\n",
       "    </tr>\n",
       "  </tbody>\n",
       "</table>\n",
       "</div>"
      ],
      "text/plain": [
       "          Title                           Title_link  \\\n",
       "0         jekoz         https://stocktwits.com/jekoz   \n",
       "1  sleekOptions  https://stocktwits.com/sleekOptions   \n",
       "2  sleekOptions  https://stocktwits.com/sleekOptions   \n",
       "3  sleekOptions  https://stocktwits.com/sleekOptions   \n",
       "4       klrkawa       https://stocktwits.com/klrkawa   \n",
       "\n",
       "                                          st_2jbUWIi  \\\n",
       "0  https://s3.amazonaws.com/st-avatars/images/def...   \n",
       "1  https://avatars.stocktwits.com/production/1442...   \n",
       "2  https://avatars.stocktwits.com/production/1442...   \n",
       "3  https://avatars.stocktwits.com/production/1442...   \n",
       "4  https://avatars.stocktwits.com/production/1520...   \n",
       "\n",
       "                                          st_3SL2gug st_1NNeqUz  \\\n",
       "0  $DIS nothing can get this over 140. Maybe $AAP...       $DIS   \n",
       "1  $AAPL [Aug-30 210 Calls] up +30.43 %  Alerted ...      $AAPL   \n",
       "2  Peak profit for the last 6 expired option aler...      $AAPL   \n",
       "3  $AAPL Last six months, 41 option alerts peaked...      $AAPL   \n",
       "4  $AAPL $ROKU $DE $HD $TGT  down. Not looking go...      $AAPL   \n",
       "\n",
       "          st_28bQfzV st_1NNeqUz1  st_3xRimaf lib_XwnOHoV  likes  \n",
       "0  Sep 17th, 8:40 am       $AAPL         NaN         NaN    NaN  \n",
       "1  Sep 17th, 8:28 am         NaN         NaN         NaN    NaN  \n",
       "2  Sep 17th, 8:26 am         NaN         NaN         NaN    NaN  \n",
       "3  Sep 17th, 8:25 am         NaN         NaN         NaN    NaN  \n",
       "4  Sep 17th, 8:11 am       $ROKU         1.0     Bearish    1.0  "
      ]
     },
     "execution_count": 9,
     "metadata": {},
     "output_type": "execute_result"
    }
   ],
   "source": [
    "st_raw.head()"
   ]
  },
  {
   "cell_type": "code",
   "execution_count": 10,
   "metadata": {},
   "outputs": [],
   "source": [
    "st = st_raw.iloc[:,3:]\n",
    "st.drop(['st_1NNeqUz', 'st_1NNeqUz1', 'st_3xRimaf', 'lib_XwnOHoV'], inplace=True, axis=1)"
   ]
  },
  {
   "cell_type": "code",
   "execution_count": 11,
   "metadata": {},
   "outputs": [],
   "source": [
    "st.columns=['message', 'datetime']"
   ]
  },
  {
   "cell_type": "code",
   "execution_count": 14,
   "metadata": {},
   "outputs": [],
   "source": [
    "st.sort_values(by='datetime', ascending=False)\n",
    "\n",
    "st['message'] = st['message'].apply(lambda x: html.unescape(x))\n",
    "st['message'] = st['message'].apply(lambda x: re.sub(r'(www\\.|https?://).*?(\\s|$)|@.*?(\\s|$)|\\$.*?(\\s|$)|\\d|\\%|\\\\|/|-|_', ' ', x))\n",
    "st['message'] = st['message'].apply(lambda x: re.sub(r'\\s+', ' ', x)) # remove spaces last because the above line will create a lot of repeated spaces\n",
    "\n",
    "st.to_csv(file_location[:-4]+'_preprocessed.csv', index=False)"
   ]
  },
  {
   "cell_type": "code",
   "execution_count": 15,
   "metadata": {},
   "outputs": [],
   "source": [
    "st_preprocessed = pd.read_csv('./Data/Stocktwit Raw_preprocessed.csv', header=0)"
   ]
  },
  {
   "cell_type": "code",
   "execution_count": 16,
   "metadata": {
    "scrolled": true
   },
   "outputs": [
    {
     "data": {
      "text/html": [
       "<div>\n",
       "<style scoped>\n",
       "    .dataframe tbody tr th:only-of-type {\n",
       "        vertical-align: middle;\n",
       "    }\n",
       "\n",
       "    .dataframe tbody tr th {\n",
       "        vertical-align: top;\n",
       "    }\n",
       "\n",
       "    .dataframe thead th {\n",
       "        text-align: right;\n",
       "    }\n",
       "</style>\n",
       "<table border=\"1\" class=\"dataframe\">\n",
       "  <thead>\n",
       "    <tr style=\"text-align: right;\">\n",
       "      <th></th>\n",
       "      <th>message</th>\n",
       "      <th>datetime</th>\n",
       "    </tr>\n",
       "  </thead>\n",
       "  <tbody>\n",
       "    <tr>\n",
       "      <th>0</th>\n",
       "      <td>nothing can get this over . Maybe buyout will...</td>\n",
       "      <td>Sep 17th, 8:40 am</td>\n",
       "    </tr>\n",
       "    <tr>\n",
       "      <th>1</th>\n",
       "      <td>[Aug Calls] up + . Alerted at on Aug : AM Pea...</td>\n",
       "      <td>Sep 17th, 8:28 am</td>\n",
       "    </tr>\n",
       "    <tr>\n",
       "      <th>2</th>\n",
       "      <td>Peak profit for the last expired option alerts...</td>\n",
       "      <td>Sep 17th, 8:26 am</td>\n",
       "    </tr>\n",
       "    <tr>\n",
       "      <th>3</th>\n",
       "      <td>Last six months, option alerts peaked above p...</td>\n",
       "      <td>Sep 17th, 8:25 am</td>\n",
       "    </tr>\n",
       "    <tr>\n",
       "      <th>4</th>\n",
       "      <td>down. Not looking good for Tuesday. Fed will ...</td>\n",
       "      <td>Sep 17th, 8:11 am</td>\n",
       "    </tr>\n",
       "  </tbody>\n",
       "</table>\n",
       "</div>"
      ],
      "text/plain": [
       "                                             message           datetime\n",
       "0   nothing can get this over . Maybe buyout will...  Sep 17th, 8:40 am\n",
       "1   [Aug Calls] up + . Alerted at on Aug : AM Pea...  Sep 17th, 8:28 am\n",
       "2  Peak profit for the last expired option alerts...  Sep 17th, 8:26 am\n",
       "3   Last six months, option alerts peaked above p...  Sep 17th, 8:25 am\n",
       "4   down. Not looking good for Tuesday. Fed will ...  Sep 17th, 8:11 am"
      ]
     },
     "execution_count": 16,
     "metadata": {},
     "output_type": "execute_result"
    }
   ],
   "source": [
    "st_preprocessed.head()"
   ]
  }
 ],
 "metadata": {
  "kernelspec": {
   "display_name": "Python 3",
   "language": "python",
   "name": "python3"
  },
  "language_info": {
   "codemirror_mode": {
    "name": "ipython",
    "version": 3
   },
   "file_extension": ".py",
   "mimetype": "text/x-python",
   "name": "python",
   "nbconvert_exporter": "python",
   "pygments_lexer": "ipython3",
   "version": "3.7.4"
  }
 },
 "nbformat": 4,
 "nbformat_minor": 2
}
